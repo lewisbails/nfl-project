{
 "nbformat": 4,
 "nbformat_minor": 2,
 "metadata": {
  "language_info": {
   "name": "python",
   "codemirror_mode": {
    "name": "ipython",
    "version": 3
   },
   "version": "3.7.3-final"
  },
  "orig_nbformat": 2,
  "file_extension": ".py",
  "mimetype": "text/x-python",
  "name": "python",
  "npconvert_exporter": "python",
  "pygments_lexer": "ipython3",
  "version": 3,
  "kernelspec": {
   "name": "nfl_study",
   "display_name": "nfl_study"
  }
 },
 "cells": [
  {
   "cell_type": "markdown",
   "execution_count": null,
   "metadata": {},
   "outputs": [],
   "source": [
    "# Reproduction"
   ]
  },
  {
   "cell_type": "markdown",
   "execution_count": null,
   "metadata": {},
   "outputs": [],
   "source": [
    "In this notebook we're just going to verify the results of Going For Three and Choking Under the Pressure, which trained logistic regression models on kicks from 2000 to 2011 and 2017, respectively. Initially we use all kickers, not just those that had had at least 50 kicks at the time of the attempt."
   ]
  },
  {
   "cell_type": "code",
   "execution_count": null,
   "metadata": {},
   "outputs": [
    {
     "ename": "Error",
     "evalue": "Invalid response: 500 Internal Server Error",
     "output_type": "error",
     "traceback": [
      "Error: Invalid response: 500 Internal Server Error",
      "at c:\\Users\\Lewis.Bails\\.vscode\\extensions\\ms-python.python-2020.2.63072\\out\\client\\node_modules\\@jupyterlab\\services.js:3:553612",
      "at async t.SessionManager.startNew (c:\\Users\\Lewis.Bails\\.vscode\\extensions\\ms-python.python-2020.2.63072\\out\\client\\node_modules\\@jupyterlab\\services.js:3:545135)",
      "at async S.connect (c:\\Users\\Lewis.Bails\\.vscode\\extensions\\ms-python.python-2020.2.63072\\out\\client\\extension.js:1:468901)",
      "at async t.JupyterSessionManager.startNew (c:\\Users\\Lewis.Bails\\.vscode\\extensions\\ms-python.python-2020.2.63072\\out\\client\\extension.js:75:1011209)",
      "at async d.createNotebookInstance (c:\\Users\\Lewis.Bails\\.vscode\\extensions\\ms-python.python-2020.2.63072\\out\\client\\extension.js:75:982675)",
      "at async A.ensureNotebookImpl (c:\\Users\\Lewis.Bails\\.vscode\\extensions\\ms-python.python-2020.2.63072\\out\\client\\extension.js:1:785532)"
     ]
    }
   ],
   "source": [
    "import pandas as pd\n",
    "import statsmodels.api as sm\n",
    "from statsmodels.formula.api import glm as glm_sm\n",
    "from sklearn.model_selection import train_test_split\n",
    "import numpy as np\n",
    "import mysql.connector\n",
    "import itertools\n",
    "from scipy.stats import chi2"
   ]
  },
  {
   "cell_type": "markdown",
   "execution_count": null,
   "metadata": {},
   "outputs": [],
   "source": [
    "Set up a connection to the mysql database served locally."
   ]
  },
  {
   "cell_type": "code",
   "execution_count": null,
   "metadata": {},
   "outputs": [
    {
     "ename": "Error",
     "evalue": "Invalid response: 500 Internal Server Error",
     "output_type": "error",
     "traceback": [
      "Error: Invalid response: 500 Internal Server Error",
      "at c:\\Users\\Lewis.Bails\\.vscode\\extensions\\ms-python.python-2020.2.63072\\out\\client\\node_modules\\@jupyterlab\\services.js:3:553612",
      "at async t.SessionManager.startNew (c:\\Users\\Lewis.Bails\\.vscode\\extensions\\ms-python.python-2020.2.63072\\out\\client\\node_modules\\@jupyterlab\\services.js:3:545135)",
      "at async S.connect (c:\\Users\\Lewis.Bails\\.vscode\\extensions\\ms-python.python-2020.2.63072\\out\\client\\extension.js:1:468901)",
      "at async t.JupyterSessionManager.startNew (c:\\Users\\Lewis.Bails\\.vscode\\extensions\\ms-python.python-2020.2.63072\\out\\client\\extension.js:75:1011209)",
      "at async d.createNotebookInstance (c:\\Users\\Lewis.Bails\\.vscode\\extensions\\ms-python.python-2020.2.63072\\out\\client\\extension.js:75:982675)",
      "at async A.ensureNotebookImpl (c:\\Users\\Lewis.Bails\\.vscode\\extensions\\ms-python.python-2020.2.63072\\out\\client\\extension.js:1:785532)"
     ]
    }
   ],
   "source": [
    "cnx = mysql.connector.connect(user='root', password='mOntie20!mysql', host='127.0.0.1', database='nfl')"
   ]
  },
  {
   "cell_type": "markdown",
   "execution_count": null,
   "metadata": {},
   "outputs": [],
   "source": [
    "Our base query doesn't change between models so we'll keep it here."
   ]
  },
  {
   "cell_type": "code",
   "execution_count": null,
   "metadata": {},
   "outputs": [],
   "source": [
    "base_query = '''select\n",
    "p.pid,fg.good,fg.dist, \n",
    "g.seas as year, k.seas as seasons,\n",
    "case when g.temp<50 then 1 else 0 end as cold,\n",
    "case when g.stad like \"%Mile High%\" then 1 else 0 end as altitude,\n",
    "case when g.humd>=60 then 1 else 0 end as humid,\n",
    "case when g.wspd>=10 then 1 else 0 end as windy,\n",
    "case when g.v=p.off then 1 else 0 end as away_game,\n",
    "case when g.wk>=10 then 1 else 0 end as postseason,\n",
    "case when (pp.qtr=p.qtr) and ((pp.timd-p.timd)>0 or (pp.timo-p.timo)>0) then 1 else 0 end as iced,\n",
    "case g.surf when 'Grass' then 0 else 1 end as turf,\n",
    "case when g.cond like \"%Snow%\" then 1 when g.cond like \"%Rain%\" and not \"Chance Rain\" then 1 else 0 end as precipitation,\n",
    "case when p.qtr=4 and ABS(p.ptso - p.ptsd)>21 then 0\n",
    "when p.qtr=4 and p.min<2 and ABS(p.ptso - p.ptsd)>8 then 0\n",
    "when p.qtr=4 and p.min<2 and p.ptso-p.ptsd < -7 then 0\n",
    "when p.qtr<=3 then 0\n",
    "when p.qtr=4 and p.min>=2 and ABS(p.ptso - p.ptsd)<21 then 0\n",
    "when p.qtr=4 and p.min<2 and p.ptso-p.ptsd >=5 and p.ptso-p.ptsd <=8 then 0\n",
    "when p.qtr=4 and p.min<2 and p.ptso-p.ptsd >=-4 and p.ptso-p.ptsd <=-6 then 0\n",
    "else 1 end as pressure'''"
   ]
  },
  {
   "cell_type": "markdown",
   "execution_count": null,
   "metadata": {},
   "outputs": [],
   "source": [
    "## Going For Three"
   ]
  },
  {
   "cell_type": "markdown",
   "execution_count": null,
   "metadata": {},
   "outputs": [],
   "source": [
    "Query the database for the data used by Going For Three. i.e. pre-2011"
   ]
  },
  {
   "cell_type": "code",
   "execution_count": null,
   "metadata": {},
   "outputs": [],
   "source": [
    "query = base_query+'''\n",
    "from FGXP fg\n",
    "left join PLAY p on fg.pid=p.pid\n",
    "left join game g on p.gid=g.gid\n",
    "join kicker k on k.player = fg.fkicker and g.gid=k.gid\n",
    "join PLAY pp on pp.pid=p.pid-1 and pp.gid=p.gid\n",
    "where fg.fgxp='FG' -- not an xp\n",
    "and g.seas <= 2011\n",
    "order by p.pid\n",
    "'''\n",
    "\n",
    "df = pd.read_sql(query, cnx, index_col = 'pid')\n",
    "df.head(10)"
   ]
  },
  {
   "cell_type": "markdown",
   "execution_count": null,
   "metadata": {},
   "outputs": [],
   "source": [
    "Going For Three didn't use the year and seasons variables in their tabulated results, so our first model won't either."
   ]
  },
  {
   "cell_type": "code",
   "execution_count": null,
   "metadata": {},
   "outputs": [],
   "source": [
    "model = glm_sm('good ~ ' + '+'.join(df.drop(['year','seasons','good'], axis=1).columns.values), df, family=sm.families.Binomial())\n",
    "result = model.fit(method='newton')\n",
    "print(result.summary())\n",
    "base_ll = pd.read_html(result.summary().tables[0].as_html())[0].iloc[4,3]"
   ]
  },
  {
   "cell_type": "markdown",
   "execution_count": null,
   "metadata": {},
   "outputs": [],
   "source": [
    "We now add back in the year and seasons of experience and control for kickers that dont make it in the NFL (so >50 kicks)."
   ]
  },
  {
   "cell_type": "code",
   "execution_count": null,
   "metadata": {},
   "outputs": [],
   "source": [
    "query = base_query+'''\n",
    "from FGXP fg\n",
    "left join PLAY p on fg.pid=p.pid\n",
    "left join game g on p.gid=g.gid\n",
    "join kicker k on k.player = fg.fkicker and g.gid=k.gid\n",
    "join PLAY pp on pp.pid=p.pid-1 and pp.gid=p.gid\n",
    "where fg.fgxp='FG' -- not an xp\n",
    "and fg.fkicker in (\n",
    "select fkicker\n",
    "from fifty) -- has had at least 50 attempts overall\n",
    "and fg.pid > (\n",
    "select pid\n",
    "from fifty\n",
    "where fg.fkicker = fkicker) -- this kick came after the 50th attempt\n",
    "and g.seas <= 2011\n",
    "order by p.pid\n",
    "'''\n",
    "\n",
    "df = pd.read_sql(query, cnx, index_col = 'pid')\n",
    "df.head(5)"
   ]
  },
  {
   "cell_type": "code",
   "execution_count": null,
   "metadata": {},
   "outputs": [],
   "source": [
    "model = glm_sm('good ~ '+'+'.join(df.drop(['good'], axis=1).columns.values), df, family=sm.families.Binomial())\n",
    "result = model.fit(method='newton')\n",
    "print(result.summary())"
   ]
  },
  {
   "cell_type": "markdown",
   "execution_count": null,
   "metadata": {},
   "outputs": [],
   "source": [
    "## Choking Under the Pressure"
   ]
  },
  {
   "cell_type": "markdown",
   "execution_count": null,
   "metadata": {},
   "outputs": [],
   "source": [
    "In Choking Under the Pressure, they used similar data now from 2000-2017.\n",
    "Lets repeat the modelling with this data, again leaving out the seasons and year covariates and not controlling for >50 kicks"
   ]
  },
  {
   "cell_type": "code",
   "execution_count": null,
   "metadata": {},
   "outputs": [],
   "source": [
    "query = base_query+'''\n",
    "from FGXP fg\n",
    "left join PLAY p on fg.pid=p.pid\n",
    "left join game g on p.gid=g.gid\n",
    "join kicker k on k.player = fg.fkicker and g.gid=k.gid\n",
    "join PLAY pp on pp.pid=p.pid-1 and pp.gid=p.gid\n",
    "where fg.fgxp='FG' -- not an xp\n",
    "and g.seas <= 2017\n",
    "order by p.pid\n",
    "'''\n",
    "\n",
    "df = pd.read_sql(query, cnx, index_col = 'pid')\n",
    "df.head(5)"
   ]
  },
  {
   "cell_type": "code",
   "execution_count": null,
   "metadata": {},
   "outputs": [],
   "source": [
    "model = glm_sm('good ~ '+'+'.join(df.drop(['good','seasons','year'], axis=1).columns.values), df, family=sm.families.Binomial())\n",
    "result = model.fit(method='newton')\n",
    "print(result.summary())"
   ]
  }
 ]
}