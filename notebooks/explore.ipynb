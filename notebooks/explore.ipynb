{
 "nbformat": 4,
 "nbformat_minor": 2,
 "metadata": {
  "language_info": {
   "name": "python",
   "codemirror_mode": {
    "name": "ipython",
    "version": 3
   },
   "version": "3.7.3-final"
  },
  "orig_nbformat": 2,
  "file_extension": ".py",
  "mimetype": "text/x-python",
  "name": "python",
  "npconvert_exporter": "python",
  "pygments_lexer": "ipython3",
  "version": 3,
  "kernelspec": {
   "name": "nfl_study",
   "display_name": "nfl_study"
  }
 },
 "cells": [
  {
   "cell_type": "code",
   "execution_count": 1,
   "metadata": {},
   "outputs": [],
   "source": [
    "# In this notebook we're just going to verify the results of Going For Three, which trained a logistic regression model on kicks from 2000 to 2011.\n",
    "# Initially we use all kickers, not just those that had had at least 50 kicks at the time of the attempt."
   ]
  },
  {
   "cell_type": "code",
   "execution_count": 27,
   "metadata": {},
   "outputs": [],
   "source": [
    "import pandas as pd\n",
    "from pandas.plotting import scatter_matrix\n",
    "import statsmodels.api as sm\n",
    "from statsmodels.formula.api import glm as glm_sm\n",
    "from sklearn.model_selection import train_test_split\n",
    "from sklearn.metrics import log_loss, accuracy_score, roc_auc_score, roc_curve\n",
    "from sklearn.ensemble import RandomForestClassifier\n",
    "import seaborn as sns\n",
    "import numpy as np\n",
    "import mysql.connector\n",
    "import itertools\n",
    "from scipy.stats import chi2\n"
   ]
  },
  {
   "cell_type": "code",
   "execution_count": 3,
   "metadata": {},
   "outputs": [],
   "source": [
    "cnx = mysql.connector.connect(user='root', password='mOntie20!mysql', host='127.0.0.1', database='nfl')"
   ]
  },
  {
   "cell_type": "code",
   "execution_count": 4,
   "metadata": {},
   "outputs": [],
   "source": [
    "base_query = '''select\n",
    "p.pid,fg.good,fg.dist, \n",
    "g.seas as year, k.seas as seasons,\n",
    "case when g.temp<50 then 1 else 0 end as cold,\n",
    "case when g.stad like \"%Mile High%\" then 1 else 0 end as altitude,\n",
    "case when g.humd>=60 then 1 else 0 end as humid,\n",
    "case when g.wspd>=10 then 1 else 0 end as windy,\n",
    "case when g.v=p.off then 1 else 0 end as away_game,\n",
    "case when g.wk>=10 then 1 else 0 end as postseason,\n",
    "case when (pp.qtr=p.qtr) and ((pp.timd-p.timd)>0 or (pp.timo-p.timo)>0) then 1 else 0 end as iced,\n",
    "case g.surf when 'Grass' then 0 else 1 end as turf,\n",
    "case when g.cond like \"%Snow%\" then 1 when g.cond like \"%Rain%\" and not \"Chance Rain\" then 1 else 0 end as precipitation,\n",
    "case when p.qtr=4 and ABS(p.ptso - p.ptsd)>21 then 0\n",
    "when p.qtr=4 and p.min<2 and ABS(p.ptso - p.ptsd)>8 then 0\n",
    "when p.qtr=4 and p.min<2 and p.ptso-p.ptsd < -7 then 0\n",
    "when p.qtr<=3 then 0\n",
    "when p.qtr=4 and p.min>=2 and ABS(p.ptso - p.ptsd)<21 then 0\n",
    "when p.qtr=4 and p.min<2 and p.ptso-p.ptsd >=5 and p.ptso-p.ptsd <=8 then 0\n",
    "when p.qtr=4 and p.min<2 and p.ptso-p.ptsd >=-4 and p.ptso-p.ptsd <=-6 then 0\n",
    "else 1 end as pressure'''"
   ]
  },
  {
   "cell_type": "code",
   "execution_count": 5,
   "metadata": {},
   "outputs": [
    {
     "data": {
      "text/html": "<div>\n<style scoped>\n    .dataframe tbody tr th:only-of-type {\n        vertical-align: middle;\n    }\n\n    .dataframe tbody tr th {\n        vertical-align: top;\n    }\n\n    .dataframe thead th {\n        text-align: right;\n    }\n</style>\n<table border=\"1\" class=\"dataframe\">\n  <thead>\n    <tr style=\"text-align: right;\">\n      <th></th>\n      <th>good</th>\n      <th>dist</th>\n      <th>year</th>\n      <th>seasons</th>\n      <th>cold</th>\n      <th>altitude</th>\n      <th>humid</th>\n      <th>windy</th>\n      <th>away_game</th>\n      <th>postseason</th>\n      <th>iced</th>\n      <th>turf</th>\n      <th>precipitation</th>\n      <th>pressure</th>\n    </tr>\n    <tr>\n      <th>pid</th>\n      <th></th>\n      <th></th>\n      <th></th>\n      <th></th>\n      <th></th>\n      <th></th>\n      <th></th>\n      <th></th>\n      <th></th>\n      <th></th>\n      <th></th>\n      <th></th>\n      <th></th>\n      <th></th>\n    </tr>\n  </thead>\n  <tbody>\n    <tr>\n      <th>17</th>\n      <td>1</td>\n      <td>43</td>\n      <td>2000</td>\n      <td>19</td>\n      <td>0</td>\n      <td>0</td>\n      <td>0</td>\n      <td>0</td>\n      <td>0</td>\n      <td>0</td>\n      <td>0</td>\n      <td>1</td>\n      <td>0</td>\n      <td>0</td>\n    </tr>\n    <tr>\n      <th>34</th>\n      <td>1</td>\n      <td>44</td>\n      <td>2000</td>\n      <td>19</td>\n      <td>0</td>\n      <td>0</td>\n      <td>0</td>\n      <td>0</td>\n      <td>0</td>\n      <td>0</td>\n      <td>0</td>\n      <td>1</td>\n      <td>0</td>\n      <td>0</td>\n    </tr>\n    <tr>\n      <th>52</th>\n      <td>1</td>\n      <td>24</td>\n      <td>2000</td>\n      <td>19</td>\n      <td>0</td>\n      <td>0</td>\n      <td>0</td>\n      <td>0</td>\n      <td>0</td>\n      <td>0</td>\n      <td>0</td>\n      <td>1</td>\n      <td>0</td>\n      <td>0</td>\n    </tr>\n    <tr>\n      <th>64</th>\n      <td>1</td>\n      <td>44</td>\n      <td>2000</td>\n      <td>19</td>\n      <td>0</td>\n      <td>0</td>\n      <td>0</td>\n      <td>0</td>\n      <td>0</td>\n      <td>0</td>\n      <td>0</td>\n      <td>1</td>\n      <td>0</td>\n      <td>0</td>\n    </tr>\n    <tr>\n      <th>95</th>\n      <td>1</td>\n      <td>48</td>\n      <td>2000</td>\n      <td>19</td>\n      <td>0</td>\n      <td>0</td>\n      <td>0</td>\n      <td>0</td>\n      <td>0</td>\n      <td>0</td>\n      <td>0</td>\n      <td>1</td>\n      <td>0</td>\n      <td>0</td>\n    </tr>\n    <tr>\n      <th>241</th>\n      <td>1</td>\n      <td>50</td>\n      <td>2000</td>\n      <td>6</td>\n      <td>0</td>\n      <td>0</td>\n      <td>1</td>\n      <td>0</td>\n      <td>1</td>\n      <td>0</td>\n      <td>1</td>\n      <td>0</td>\n      <td>0</td>\n      <td>0</td>\n    </tr>\n    <tr>\n      <th>277</th>\n      <td>1</td>\n      <td>25</td>\n      <td>2000</td>\n      <td>6</td>\n      <td>0</td>\n      <td>0</td>\n      <td>1</td>\n      <td>0</td>\n      <td>1</td>\n      <td>0</td>\n      <td>0</td>\n      <td>0</td>\n      <td>0</td>\n      <td>0</td>\n    </tr>\n    <tr>\n      <th>375</th>\n      <td>1</td>\n      <td>33</td>\n      <td>2000</td>\n      <td>3</td>\n      <td>0</td>\n      <td>0</td>\n      <td>0</td>\n      <td>0</td>\n      <td>1</td>\n      <td>0</td>\n      <td>0</td>\n      <td>1</td>\n      <td>0</td>\n      <td>0</td>\n    </tr>\n    <tr>\n      <th>387</th>\n      <td>1</td>\n      <td>34</td>\n      <td>2000</td>\n      <td>1</td>\n      <td>0</td>\n      <td>0</td>\n      <td>0</td>\n      <td>0</td>\n      <td>0</td>\n      <td>0</td>\n      <td>0</td>\n      <td>1</td>\n      <td>0</td>\n      <td>0</td>\n    </tr>\n    <tr>\n      <th>401</th>\n      <td>1</td>\n      <td>38</td>\n      <td>2000</td>\n      <td>1</td>\n      <td>0</td>\n      <td>0</td>\n      <td>0</td>\n      <td>0</td>\n      <td>0</td>\n      <td>0</td>\n      <td>0</td>\n      <td>1</td>\n      <td>0</td>\n      <td>0</td>\n    </tr>\n  </tbody>\n</table>\n</div>",
      "text/plain": "     good  dist  year  seasons  cold  altitude  humid  windy  away_game  \\\npid                                                                       \n17      1    43  2000       19     0         0      0      0          0   \n34      1    44  2000       19     0         0      0      0          0   \n52      1    24  2000       19     0         0      0      0          0   \n64      1    44  2000       19     0         0      0      0          0   \n95      1    48  2000       19     0         0      0      0          0   \n241     1    50  2000        6     0         0      1      0          1   \n277     1    25  2000        6     0         0      1      0          1   \n375     1    33  2000        3     0         0      0      0          1   \n387     1    34  2000        1     0         0      0      0          0   \n401     1    38  2000        1     0         0      0      0          0   \n\n     postseason  iced  turf  precipitation  pressure  \npid                                                   \n17            0     0     1              0         0  \n34            0     0     1              0         0  \n52            0     0     1              0         0  \n64            0     0     1              0         0  \n95            0     0     1              0         0  \n241           0     1     0              0         0  \n277           0     0     0              0         0  \n375           0     0     1              0         0  \n387           0     0     1              0         0  \n401           0     0     1              0         0  "
     },
     "execution_count": 5,
     "metadata": {},
     "output_type": "execute_result"
    }
   ],
   "source": [
    "# pre-2011, include kickers with <50 kicks at time of attempt\n",
    "query = base_query+'''\n",
    "from FGXP fg\n",
    "left join PLAY p on fg.pid=p.pid\n",
    "left join game g on p.gid=g.gid\n",
    "join kicker k on k.player = fg.fkicker and g.gid=k.gid\n",
    "join PLAY pp on pp.pid=p.pid-1 and pp.gid=p.gid\n",
    "where fg.fgxp='FG' -- not an xp\n",
    "and g.seas <= 2011\n",
    "order by p.pid\n",
    "'''\n",
    "\n",
    "df = pd.read_sql(query, cnx, index_col = 'pid')\n",
    "df.head(10)"
   ]
  },
  {
   "cell_type": "code",
   "execution_count": 19,
   "metadata": {},
   "outputs": [
    {
     "name": "stdout",
     "output_type": "stream",
     "text": "0.26363806684953395\n"
    }
   ],
   "source": [
    "# windy vs precip tetrchoric\n",
    "a = len(df[(df['precipitation']==1) & (df['windy']==0)])\n",
    "b = len(df[(df['precipitation']==1) & (df['windy']==1)])\n",
    "c = len(df[(df['precipitation']==0) & (df['windy']==0)])\n",
    "d = len(df[(df['precipitation']==0) & (df['windy']==1)])\n",
    "tetra_precip_wind = np.cos(np.radians(180/(1+np.sqrt(b*c/a/d))))\n",
    "print(tetra_precip_wind)"
   ]
  },
  {
   "cell_type": "code",
   "execution_count": 26,
   "metadata": {},
   "outputs": [
    {
     "name": "stdout",
     "output_type": "stream",
     "text": "Generalized Linear Model Regression Results                  \n==============================================================================\nDep. Variable:                   good   No. Observations:                11901\nModel:                            GLM   Df Residuals:                    11889\nModel Family:                Binomial   Df Model:                           11\nLink Function:                  logit   Scale:                          1.0000\nMethod:                        newton   Log-Likelihood:                -5001.9\nDate:                Fri, 14 Feb 2020   Deviance:                       10004.\nTime:                        15:51:42   Pearson chi2:                 1.14e+04\nNo. Iterations:                     3                                         \nCovariance Type:            nonrobust                                         \n=================================================================================\n                    coef    std err          z      P>|z|      [0.025      0.975]\n---------------------------------------------------------------------------------\nIntercept         5.6933      0.139     40.916      0.000       5.421       5.966\ndist             -0.1053      0.003    -35.204      0.000      -0.111      -0.099\ncold             -0.2228      0.057     -3.899      0.000      -0.335      -0.111\naltitude          0.5856      0.158      3.710      0.000       0.276       0.895\nhumid            -0.0807      0.055     -1.461      0.144      -0.189       0.028\nwindy            -0.2196      0.055     -3.985      0.000      -0.328      -0.112\naway_game        -0.0350      0.050     -0.697      0.486      -0.133       0.063\npostseason       -0.0673      0.054     -1.238      0.216      -0.174       0.039\niced             -0.1046      0.076     -1.369      0.171      -0.254       0.045\nturf              0.2994      0.055      5.443      0.000       0.192       0.407\nprecipitation    -0.1798      0.086     -2.089      0.037      -0.348      -0.011\npressure         -0.0109      0.108     -0.101      0.920      -0.223       0.201\n=================================================================================\n"
    }
   ],
   "source": [
    "# Using the glm API (Intercept added automatically)\n",
    "# Lets drop the year, seasons for now\n",
    "model = glm_sm('good ~ ' + '+'.join(df.drop(['year','seasons','good'], axis=1).columns.values), df, family=sm.families.Binomial())\n",
    "result = model.fit(method='newton')\n",
    "print(result.summary())\n",
    "base_ll = pd.read_html(result.summary().tables[0].as_html())[0].iloc[4,3]"
   ]
  },
  {
   "cell_type": "code",
   "execution_count": null,
   "metadata": {},
   "outputs": [],
   "source": [
    "# We can see the results are similar to those achieved by the authors of Going For Three\n",
    "# What about interactions? Lets include all possible 2 covariate interactions.\n",
    "def get_interactions(covariates):\n",
    "    interactions = []\n",
    "    for i,j in itertools.product(covariates,covariates):\n",
    "        if i>j:\n",
    "            interactions.append(i+'*'+j)\n",
    "\n",
    "    return interactions\n",
    "\n",
    "def LR_test(l1,l2):\n",
    "    LR = -2*(l1) - (-2*(l2))\n",
    "    p = chi2.sf(LR, 1)\n",
    "    return p\n",
    "\n",
    "def pd_summary(result):\n",
    "    return pd.read_html(result.summary().tables[1].as_html(), header=0, index_col=0)[0]\n",
    "\n",
    "\n",
    "covariates = df.drop(['year','seasons','good'], axis=1).columns.values\n",
    "sig_interactions = []\n",
    "\n",
    "for interaction in get_interactions(covariates):\n",
    "    formula = 'good ~ ' + '+'.join(covariates) + '+' + interaction\n",
    "\n",
    "    model = glm_sm(formula, df, family=sm.families.Binomial())\n",
    "    result = model.fit(method='irls')\n",
    "    log_likelihood = pd.read_html(result.summary().tables[0].as_html())[0].iloc[4,3]\n",
    "    p = LR_test(base_ll, log_likelihood)\n",
    "    if p<0.1:\n",
    "        sig_interactions.append({'interaction':interaction,'ll':log_likelihood, 'summary':pd_summary(result), 'P':p})\n",
    "\n",
    "# wary of multiple tests -- bonferroni correction\n"
   ]
  },
  {
   "cell_type": "code",
   "execution_count": null,
   "metadata": {},
   "outputs": [],
   "source": [
    "df_interactions = pd.DataFrame.from_dict(sig_interactions, orient='columns')\n",
    "df_interactions"
   ]
  },
  {
   "cell_type": "code",
   "execution_count": null,
   "metadata": {},
   "outputs": [],
   "source": [
    "# If we now add back in the year and seasons of experience and control for kickers that dont make it in the NFL (so >50 kicks)\n",
    "# We see that both year and seasons are significant covariates"
   ]
  },
  {
   "cell_type": "code",
   "execution_count": null,
   "metadata": {},
   "outputs": [],
   "source": [
    "# pre-2011, remove kickers with <50 kicks at time of attempt\n",
    "query = base_query+'''\n",
    "from FGXP fg\n",
    "left join PLAY p on fg.pid=p.pid\n",
    "left join game g on p.gid=g.gid\n",
    "join kicker k on k.player = fg.fkicker and g.gid=k.gid\n",
    "join PLAY pp on pp.pid=p.pid-1 and pp.gid=p.gid\n",
    "where fg.fgxp='FG' -- not an xp\n",
    "and fg.fkicker in (\n",
    "select fkicker\n",
    "from fifty) -- has had at least 50 attempts overall\n",
    "and fg.pid > (\n",
    "select pid\n",
    "from fifty\n",
    "where fg.fkicker = fkicker) -- this kick came after the 50th attempt\n",
    "and g.seas <= 2011\n",
    "order by p.pid\n",
    "'''\n",
    "\n",
    "df = pd.read_sql(query, cnx, index_col = 'pid')\n",
    "df.head(10)"
   ]
  },
  {
   "cell_type": "code",
   "execution_count": null,
   "metadata": {},
   "outputs": [],
   "source": [
    "model = glm_sm('good ~ '+'+'.join(df.drop(['good'], axis=1).columns.values), df, family=sm.families.Binomial())\n",
    "result = model.fit(method='newton')\n",
    "print(result.summary())"
   ]
  },
  {
   "cell_type": "code",
   "execution_count": null,
   "metadata": {},
   "outputs": [],
   "source": [
    "#And with interactions\n"
   ]
  },
  {
   "cell_type": "code",
   "execution_count": null,
   "metadata": {},
   "outputs": [],
   "source": [
    "# In Choking Under the Pressure, they used similar data now from 2000-2017.\n",
    "# Lets repeat the modelling with this data, again leaving out the seasons and year covariates and not controlling for >50 kicks"
   ]
  },
  {
   "cell_type": "code",
   "execution_count": null,
   "metadata": {},
   "outputs": [],
   "source": [
    "# pre-2017, include kickers with <50 kicks at time of attempt\n",
    "query = base_query+'''\n",
    "from FGXP fg\n",
    "left join PLAY p on fg.pid=p.pid\n",
    "left join game g on p.gid=g.gid\n",
    "join kicker k on k.player = fg.fkicker and g.gid=k.gid\n",
    "join PLAY pp on pp.pid=p.pid-1 and pp.gid=p.gid\n",
    "where fg.fgxp='FG' -- not an xp\n",
    "and g.seas <= 2017\n",
    "order by p.pid\n",
    "'''\n",
    "\n",
    "df = pd.read_sql(query, cnx, index_col = 'pid')\n",
    "df.head(10)"
   ]
  },
  {
   "cell_type": "code",
   "execution_count": null,
   "metadata": {},
   "outputs": [],
   "source": [
    "model = glm_sm('good ~ '+'+'.join(df.drop(['good','seasons','year'], axis=1).columns.values), df, family=sm.families.Binomial())\n",
    "result = model.fit(method='newton')\n",
    "print(result.summary())"
   ]
  },
  {
   "cell_type": "code",
   "execution_count": null,
   "metadata": {},
   "outputs": [],
   "source": [
    "# Now that we've verified the results of the previous studies, we turn out attention to the most recent seasons and employ a bayesian framework for improving the estimates."
   ]
  },
  {
   "cell_type": "code",
   "execution_count": null,
   "metadata": {},
   "outputs": [],
   "source": []
  },
  {
   "cell_type": "code",
   "execution_count": null,
   "metadata": {},
   "outputs": [],
   "source": [
    "# Below we continue the evaluation by assessing the predictive power of the model. Which isnt our main goal, but here it is anyway."
   ]
  },
  {
   "cell_type": "code",
   "execution_count": null,
   "metadata": {},
   "outputs": [],
   "source": [
    "y_pred = result.predict(exog=x_test)\n",
    "y_logits = -np.log((1/y_pred) -1)"
   ]
  },
  {
   "cell_type": "code",
   "execution_count": null,
   "metadata": {},
   "outputs": [],
   "source": [
    "loss = log_loss(y_test, y_pred)\n",
    "auc = roc_auc_score(y_test, y_pred)\n",
    "print(loss,auc)"
   ]
  },
  {
   "cell_type": "code",
   "execution_count": null,
   "metadata": {},
   "outputs": [],
   "source": [
    "df_results = x_test.copy()\n",
    "df_results['good'] = y_test\n",
    "df_results['prob'] = y_pred\n",
    "df_results['logits'] = y_logits\n",
    "df_results"
   ]
  },
  {
   "cell_type": "code",
   "execution_count": null,
   "metadata": {},
   "outputs": [],
   "source": [
    "ax = sns.regplot(x='logits', y='prob', data=df_results, lowess=True)\n",
    "sns.scatterplot(x='logits', y='good', data=df_results, ax=ax, color='r')"
   ]
  },
  {
   "cell_type": "code",
   "execution_count": null,
   "metadata": {},
   "outputs": [],
   "source": [
    "fpr, tpr, thresholds = roc_curve(y_test, y_pred)\n",
    "ax = sns.lineplot(x=fpr, y=tpr, ci=0, markers=True)\n",
    "sns.lineplot(x=np.arange(0,1,0.1), y=np.arange(0,1,0.1), dashes=True, ax=ax)"
   ]
  },
  {
   "cell_type": "code",
   "execution_count": null,
   "metadata": {},
   "outputs": [],
   "source": []
  }
 ]
}