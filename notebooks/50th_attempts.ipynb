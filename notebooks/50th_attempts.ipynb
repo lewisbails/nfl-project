{
 "nbformat": 4,
 "nbformat_minor": 2,
 "metadata": {
  "language_info": {
   "name": "python",
   "codemirror_mode": {
    "name": "ipython",
    "version": 3
   },
   "version": "3.7.3-final"
  },
  "orig_nbformat": 2,
  "file_extension": ".py",
  "mimetype": "text/x-python",
  "name": "python",
  "npconvert_exporter": "python",
  "pygments_lexer": "ipython3",
  "version": 3,
  "kernelspec": {
   "name": "nfl_study",
   "display_name": "nfl_study"
  }
 },
 "cells": [
  {
   "cell_type": "markdown",
   "metadata": {},
   "source": [
    "In this notebook we want to build a dataframe that consists of each kicker's 50th kick. 50 because that is what Going For Three used."
   ]
  },
  {
   "cell_type": "code",
   "execution_count": 3,
   "metadata": {},
   "outputs": [],
   "source": [
    "import pandas as pd\n",
    "import numpy as np\n",
    "\n",
    "\n",
    "def check_sorted_descending(values):\n",
    "    sorted_ = list(np.sort(values))\n",
    "    sorted_.reverse()\n",
    "    return all([i==j for i,j in zip(values,sorted_)])"
   ]
  },
  {
   "cell_type": "markdown",
   "metadata": {},
   "source": [
    "Get a dataframe consisting of all field goal attempts in the dataset."
   ]
  },
  {
   "cell_type": "code",
   "execution_count": 74,
   "metadata": {},
   "outputs": [],
   "source": [
    "df_kicks = pd.read_csv('../data/nfl_00-19/FGXP.csv')\n",
    "df_plays = pd.read_csv('../data/nfl_00-19/PLAY.csv')\n",
    "df_game = pd.read_csv('../data/nfl_00-19/GAME.csv')\n",
    "df_kicks = df_kicks.merge(df_plays, on='pid', suffixes=('',''))\n",
    "df_kicks = df_kicks.merge(df_game, on='gid', suffixes=('',''))\n",
    "df_kicks = df_kicks.loc[:,['pid','gid','fgxp','fkicker','dist','good']]\n",
    "df_fgs = df_kicks.loc[df_kicks['fgxp']=='FG',:]"
   ]
  },
  {
   "cell_type": "code",
   "execution_count": 78,
   "metadata": {},
   "outputs": [
    {
     "data": {
      "text/plain": "44758"
     },
     "execution_count": 78,
     "metadata": {},
     "output_type": "execute_result"
    }
   ],
   "source": [
    "len(df_fgs)"
   ]
  },
  {
   "cell_type": "markdown",
   "metadata": {},
   "source": [
    "Now filter out attempts by kickers that have had less than 50 attempts in total."
   ]
  },
  {
   "cell_type": "code",
   "execution_count": 114,
   "metadata": {},
   "outputs": [],
   "source": [
    "df_exp = df_fgs.groupby('fkicker').filter(lambda x: len(x)>=50)"
   ]
  },
  {
   "cell_type": "markdown",
   "metadata": {},
   "source": [
    "For the kickers remaining: group their kicks, order by time of attempt (oldest first), take top 50, re-order (latest first), and take the top row (50th kick)"
   ]
  },
  {
   "cell_type": "code",
   "execution_count": 122,
   "metadata": {},
   "outputs": [],
   "source": [
    "fiftieths = pd.DataFrame(columns=df_exp.columns)\n",
    "\n",
    "for i,group in df_exp.groupby('fkicker'):\n",
    "    group = group.sort_values('pid', ascending=True).head(50).sort_values('pid', ascending=False)\n",
    "    assert check_sorted_descending(group['gid']), 'Games not in order.'\n",
    "    fiftieths = fiftieths.append(group.iloc[0,:])"
   ]
  },
  {
   "cell_type": "markdown",
   "metadata": {},
   "source": [
    "Save the resulting dataframe to csv"
   ]
  },
  {
   "cell_type": "code",
   "execution_count": 127,
   "metadata": {},
   "outputs": [],
   "source": [
    "fiftieths.drop(['fgxp'], inplace=True, axis=1)\n",
    "fiftieths.to_csv('FIFTY.csv', index=False)"
   ]
  },
  {
   "cell_type": "code",
   "execution_count": 130,
   "metadata": {},
   "outputs": [
    {
     "data": {
      "text/html": "<div>\n<style scoped>\n    .dataframe tbody tr th:only-of-type {\n        vertical-align: middle;\n    }\n\n    .dataframe tbody tr th {\n        vertical-align: top;\n    }\n\n    .dataframe thead th {\n        text-align: right;\n    }\n</style>\n<table border=\"1\" class=\"dataframe\">\n  <thead>\n    <tr style=\"text-align: right;\">\n      <th></th>\n      <th>pid</th>\n      <th>gid</th>\n      <th>fkicker</th>\n      <th>dist</th>\n      <th>good</th>\n    </tr>\n  </thead>\n  <tbody>\n    <tr>\n      <th>28030</th>\n      <td>550548</td>\n      <td>3379</td>\n      <td>AH-2600</td>\n      <td>43</td>\n      <td>1</td>\n    </tr>\n    <tr>\n      <th>41808</th>\n      <td>815802</td>\n      <td>4975</td>\n      <td>AR-1450</td>\n      <td>57</td>\n      <td>1</td>\n    </tr>\n    <tr>\n      <th>3171</th>\n      <td>65028</td>\n      <td>401</td>\n      <td>AV-0400</td>\n      <td>33</td>\n      <td>1</td>\n    </tr>\n    <tr>\n      <th>7362</th>\n      <td>148410</td>\n      <td>910</td>\n      <td>BC-2300</td>\n      <td>36</td>\n      <td>1</td>\n    </tr>\n    <tr>\n      <th>8578</th>\n      <td>172642</td>\n      <td>1059</td>\n      <td>BC-3000</td>\n      <td>27</td>\n      <td>1</td>\n    </tr>\n  </tbody>\n</table>\n</div>",
      "text/plain": "          pid   gid  fkicker dist good\n28030  550548  3379  AH-2600   43    1\n41808  815802  4975  AR-1450   57    1\n3171    65028   401  AV-0400   33    1\n7362   148410   910  BC-2300   36    1\n8578   172642  1059  BC-3000   27    1"
     },
     "execution_count": 130,
     "metadata": {},
     "output_type": "execute_result"
    }
   ],
   "source": [
    "fiftieths.head()"
   ]
  },
  {
   "cell_type": "code",
   "execution_count": null,
   "metadata": {},
   "outputs": [],
   "source": []
  }
 ]
}