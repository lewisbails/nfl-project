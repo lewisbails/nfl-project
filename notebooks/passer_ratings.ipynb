{
 "nbformat": 4,
 "nbformat_minor": 2,
 "metadata": {
  "language_info": {
   "name": "python",
   "codemirror_mode": {
    "name": "ipython",
    "version": 3
   },
   "version": "3.7.6-final"
  },
  "orig_nbformat": 2,
  "file_extension": ".py",
  "mimetype": "text/x-python",
  "name": "python",
  "npconvert_exporter": "python",
  "pygments_lexer": "ipython3",
  "version": 3,
  "kernelspec": {
   "name": "python37664bitcondapymc3conda6670677869c246b299085920d157fd45",
   "display_name": "Python 3.7.6 64-bit ('conda_pymc3': conda)"
  }
 },
 "cells": [
  {
   "cell_type": "markdown",
   "metadata": {},
   "source": [
    "# Passer Ratings: Physical attributes 🤙 💪 🧍\n",
    "\n",
    "Hypothesis: Hand size/height/arm length affects average career passer rating."
   ],
   "execution_count": null,
   "outputs": []
  },
  {
   "cell_type": "code",
   "execution_count": 14,
   "metadata": {},
   "outputs": [
    {
     "output_type": "stream",
     "name": "stdout",
     "text": "The autoreload extension is already loaded. To reload it, use:\n  %reload_ext autoreload\n"
    }
   ],
   "source": [
    "%load_ext autoreload\n",
    "%autoreload 2\n",
    "\n",
    "import pandas as pd\n",
    "import numpy as np\n",
    "import sys\n",
    "import pickle\n",
    "from datetime import datetime as dt\n",
    "import matplotlib.pyplot as plt\n",
    "import seaborn as sns\n",
    "plt.style.use('seaborn-darkgrid')\n",
    "# import pymc3 as pm\n",
    "sys.path.append('..')"
   ]
  },
  {
   "cell_type": "code",
   "execution_count": 15,
   "metadata": {},
   "outputs": [
    {
     "output_type": "execute_result",
     "data": {
      "text/plain": "              year  attempts  avg_rating  sack_rate  precip_rate  turf_rate  \\\nDB-3800-2011  2011       8.0       110.6       3.65         0.00      72.22   \nEM-0200-2011  2011       8.0        95.1       4.93        10.00      75.00   \nTB-2300-2011  2011       7.0       104.8       4.62         0.00      63.16   \nMR-2500-2016  2016       6.0       119.9       6.61         5.26      73.68   \nDB-3800-2013  2013       7.0       102.3       5.24        11.11      77.78   \n...            ...       ...         ...        ...          ...        ...   \nTD-1400-2007  2007       2.0        55.1      10.93         0.00      14.29   \nMM-2800-2005  2005       2.0        55.2       8.41        11.11      22.22   \nJS-3700-2012  2012       2.0        55.4       6.94        14.29      57.14   \nSM-2400-2007  2007       2.0        73.9       4.63        16.67      16.67   \nJG-1850-2016  2016       2.0        63.6      11.26        14.29      42.86   \n\n              wind_rate  away_rate  temp  height     arm   hand  dpos  seasons  \nDB-3800-2011     233.33      50.00  69.0    72.0  31.250  10.00    32       11  \nEM-0200-2011     785.00      55.00  58.0    77.0  30.750   9.75     1        8  \nTB-2300-2011     784.21      42.11  55.0    76.0  32.750   9.38   199       12  \nMR-2500-2016     205.26      42.11  69.0    77.0  32.375   9.50     3        9  \nDB-3800-2013     488.89      55.56  63.0    72.0  31.250  10.00    32       13  \n...                 ...        ...   ...     ...     ...    ...   ...      ...  \nTD-1400-2007     528.57      42.86  60.0    76.0  32.250   9.63     6       14  \nMM-2800-2005     488.89      33.33  56.0    74.0  32.000   9.75   149        5  \nJS-3700-2012     285.71      57.14  64.0    77.0  32.000   9.75   285        3  \nSM-2400-2007     583.33      66.67  66.0    74.0  32.250  10.50     3       13  \nJG-1850-2016     314.29      42.86  54.0    76.0  32.750   9.00     1        1  \n\n[592 rows x 14 columns]",
      "text/html": "<div>\n<style scoped>\n    .dataframe tbody tr th:only-of-type {\n        vertical-align: middle;\n    }\n\n    .dataframe tbody tr th {\n        vertical-align: top;\n    }\n\n    .dataframe thead th {\n        text-align: right;\n    }\n</style>\n<table border=\"1\" class=\"dataframe\">\n  <thead>\n    <tr style=\"text-align: right;\">\n      <th></th>\n      <th>year</th>\n      <th>attempts</th>\n      <th>avg_rating</th>\n      <th>sack_rate</th>\n      <th>precip_rate</th>\n      <th>turf_rate</th>\n      <th>wind_rate</th>\n      <th>away_rate</th>\n      <th>temp</th>\n      <th>height</th>\n      <th>arm</th>\n      <th>hand</th>\n      <th>dpos</th>\n      <th>seasons</th>\n    </tr>\n  </thead>\n  <tbody>\n    <tr>\n      <th>DB-3800-2011</th>\n      <td>2011</td>\n      <td>8.0</td>\n      <td>110.6</td>\n      <td>3.65</td>\n      <td>0.00</td>\n      <td>72.22</td>\n      <td>233.33</td>\n      <td>50.00</td>\n      <td>69.0</td>\n      <td>72.0</td>\n      <td>31.250</td>\n      <td>10.00</td>\n      <td>32</td>\n      <td>11</td>\n    </tr>\n    <tr>\n      <th>EM-0200-2011</th>\n      <td>2011</td>\n      <td>8.0</td>\n      <td>95.1</td>\n      <td>4.93</td>\n      <td>10.00</td>\n      <td>75.00</td>\n      <td>785.00</td>\n      <td>55.00</td>\n      <td>58.0</td>\n      <td>77.0</td>\n      <td>30.750</td>\n      <td>9.75</td>\n      <td>1</td>\n      <td>8</td>\n    </tr>\n    <tr>\n      <th>TB-2300-2011</th>\n      <td>2011</td>\n      <td>7.0</td>\n      <td>104.8</td>\n      <td>4.62</td>\n      <td>0.00</td>\n      <td>63.16</td>\n      <td>784.21</td>\n      <td>42.11</td>\n      <td>55.0</td>\n      <td>76.0</td>\n      <td>32.750</td>\n      <td>9.38</td>\n      <td>199</td>\n      <td>12</td>\n    </tr>\n    <tr>\n      <th>MR-2500-2016</th>\n      <td>2016</td>\n      <td>6.0</td>\n      <td>119.9</td>\n      <td>6.61</td>\n      <td>5.26</td>\n      <td>73.68</td>\n      <td>205.26</td>\n      <td>42.11</td>\n      <td>69.0</td>\n      <td>77.0</td>\n      <td>32.375</td>\n      <td>9.50</td>\n      <td>3</td>\n      <td>9</td>\n    </tr>\n    <tr>\n      <th>DB-3800-2013</th>\n      <td>2013</td>\n      <td>7.0</td>\n      <td>102.3</td>\n      <td>5.24</td>\n      <td>11.11</td>\n      <td>77.78</td>\n      <td>488.89</td>\n      <td>55.56</td>\n      <td>63.0</td>\n      <td>72.0</td>\n      <td>31.250</td>\n      <td>10.00</td>\n      <td>32</td>\n      <td>13</td>\n    </tr>\n    <tr>\n      <th>...</th>\n      <td>...</td>\n      <td>...</td>\n      <td>...</td>\n      <td>...</td>\n      <td>...</td>\n      <td>...</td>\n      <td>...</td>\n      <td>...</td>\n      <td>...</td>\n      <td>...</td>\n      <td>...</td>\n      <td>...</td>\n      <td>...</td>\n      <td>...</td>\n    </tr>\n    <tr>\n      <th>TD-1400-2007</th>\n      <td>2007</td>\n      <td>2.0</td>\n      <td>55.1</td>\n      <td>10.93</td>\n      <td>0.00</td>\n      <td>14.29</td>\n      <td>528.57</td>\n      <td>42.86</td>\n      <td>60.0</td>\n      <td>76.0</td>\n      <td>32.250</td>\n      <td>9.63</td>\n      <td>6</td>\n      <td>14</td>\n    </tr>\n    <tr>\n      <th>MM-2800-2005</th>\n      <td>2005</td>\n      <td>2.0</td>\n      <td>55.2</td>\n      <td>8.41</td>\n      <td>11.11</td>\n      <td>22.22</td>\n      <td>488.89</td>\n      <td>33.33</td>\n      <td>56.0</td>\n      <td>74.0</td>\n      <td>32.000</td>\n      <td>9.75</td>\n      <td>149</td>\n      <td>5</td>\n    </tr>\n    <tr>\n      <th>JS-3700-2012</th>\n      <td>2012</td>\n      <td>2.0</td>\n      <td>55.4</td>\n      <td>6.94</td>\n      <td>14.29</td>\n      <td>57.14</td>\n      <td>285.71</td>\n      <td>57.14</td>\n      <td>64.0</td>\n      <td>77.0</td>\n      <td>32.000</td>\n      <td>9.75</td>\n      <td>285</td>\n      <td>3</td>\n    </tr>\n    <tr>\n      <th>SM-2400-2007</th>\n      <td>2007</td>\n      <td>2.0</td>\n      <td>73.9</td>\n      <td>4.63</td>\n      <td>16.67</td>\n      <td>16.67</td>\n      <td>583.33</td>\n      <td>66.67</td>\n      <td>66.0</td>\n      <td>74.0</td>\n      <td>32.250</td>\n      <td>10.50</td>\n      <td>3</td>\n      <td>13</td>\n    </tr>\n    <tr>\n      <th>JG-1850-2016</th>\n      <td>2016</td>\n      <td>2.0</td>\n      <td>63.6</td>\n      <td>11.26</td>\n      <td>14.29</td>\n      <td>42.86</td>\n      <td>314.29</td>\n      <td>42.86</td>\n      <td>54.0</td>\n      <td>76.0</td>\n      <td>32.750</td>\n      <td>9.00</td>\n      <td>1</td>\n      <td>1</td>\n    </tr>\n  </tbody>\n</table>\n<p>592 rows × 14 columns</p>\n</div>"
     },
     "metadata": {},
     "execution_count": 15
    }
   ],
   "source": [
    "df = pd.read_csv('../data/passer_ratings.csv', index_col=0)\n",
    "df['attempts'] = round(df['attempts']/100)\n",
    "df['sack_rate'] = round(df['sack_rate']*100,2)\n",
    "df['alt_rate'] = round(df['alt_rate']*100,2)\n",
    "df['precip_rate'] = round(df['precip_rate']*100,2)\n",
    "df['turf_rate'] = round(df['turf_rate']*100,2)\n",
    "df['wind_rate'] = round(df['wind_rate']*100,2)\n",
    "df['away_rate'] = round(df['away_rate']*100,2)\n",
    "df['temp'] = round(df['temp'])\n",
    "df = df.loc[df['alt_rate']<20, :]\n",
    "df.drop('alt_rate', axis=1, inplace=True)\n",
    "df"
   ]
  },
  {
   "cell_type": "markdown",
   "metadata": {},
   "source": [
    "## Variable of Interest"
   ],
   "execution_count": null,
   "outputs": []
  },
  {
   "cell_type": "markdown",
   "metadata": {},
   "source": [
    "First we dichotamise the variable of interest. For example, we may filter to only include big or small handed players. We say small hand QB's are those in the bottom 1/3rd, and large hands are the top 1/3rd.\n",
    "\n",
    "Height and arm length are postively correlated (0.45), so it's a little difficult to control for one when investigating the other. Height is of bigger interest than arm, and we suspect it is a bigger influence. However we see the drawback in not controlling for this. "
   ],
   "execution_count": null,
   "outputs": []
  },
  {
   "cell_type": "code",
   "execution_count": 16,
   "metadata": {},
   "outputs": [],
   "source": [
    "df_exp = df.copy()"
   ]
  },
  {
   "cell_type": "code",
   "execution_count": 17,
   "metadata": {},
   "outputs": [],
   "source": [
    "on = 'warm' # the name of the dichotomous variable\n",
    "original = 'temp' # the original variable name\n",
    "\n",
    "# specifically for height study\n",
    "# df_exp.drop('arm', axis=1, inplace=True)"
   ]
  },
  {
   "cell_type": "code",
   "execution_count": 18,
   "metadata": {},
   "outputs": [
    {
     "output_type": "stream",
     "name": "stdout",
     "text": "64.0 58.0\n"
    },
    {
     "output_type": "execute_result",
     "data": {
      "text/plain": "True     235\nFalse    201\nName: warm, dtype: int64"
     },
     "metadata": {},
     "execution_count": 18
    }
   ],
   "source": [
    "big = np.percentile(df_exp[original], q=66)\n",
    "small = np.percentile(df_exp[original], q=33)\n",
    "df_exp = df_exp.loc[(df_exp[original]>=big) | (df_exp[original]<=small), :] # only extreme values\n",
    "df_exp[on] = df_exp[original]>=big\n",
    "df_exp = df_exp.drop(original, axis=1)\n",
    "print(big, small)\n",
    "df_exp[on].value_counts()"
   ]
  },
  {
   "cell_type": "code",
   "execution_count": 19,
   "metadata": {},
   "outputs": [
    {
     "output_type": "execute_result",
     "data": {
      "text/plain": "              year  attempts  avg_rating  sack_rate  precip_rate  turf_rate  \\\nDB-3800-2011  2011       8.0       110.6       3.65         0.00      72.22   \nEM-0200-2011  2011       8.0        95.1       4.93        10.00      75.00   \nTB-2300-2011  2011       7.0       104.8       4.62         0.00      63.16   \nMR-2500-2016  2016       6.0       119.9       6.61         5.26      73.68   \nTB-2300-2017  2017       7.0       103.9       5.12         5.26      73.68   \n...            ...       ...         ...        ...          ...        ...   \nMB-4500-2004  2004       2.0        63.9       5.93         0.00      22.22   \nMM-2800-2005  2005       2.0        55.2       8.41        11.11      22.22   \nJS-3700-2012  2012       2.0        55.4       6.94        14.29      57.14   \nSM-2400-2007  2007       2.0        73.9       4.63        16.67      16.67   \nJG-1850-2016  2016       2.0        63.6      11.26        14.29      42.86   \n\n              wind_rate  away_rate  height     arm   hand  dpos  seasons  \\\nDB-3800-2011     233.33      50.00    72.0  31.250  10.00    32       11   \nEM-0200-2011     785.00      55.00    77.0  30.750   9.75     1        8   \nTB-2300-2011     784.21      42.11    76.0  32.750   9.38   199       12   \nMR-2500-2016     205.26      42.11    77.0  32.375   9.50     3        9   \nTB-2300-2017     694.74      42.11    76.0  32.750   9.38   199       18   \n...                 ...        ...     ...     ...    ...   ...      ...   \nMB-4500-2004     855.56      44.44    73.0  32.250   9.13   118       12   \nMM-2800-2005     488.89      33.33    74.0  32.000   9.75   149        5   \nJS-3700-2012     285.71      57.14    77.0  32.000   9.75   285        3   \nSM-2400-2007     583.33      66.67    74.0  32.250  10.50     3       13   \nJG-1850-2016     314.29      42.86    76.0  32.750   9.00     1        1   \n\n               warm  \nDB-3800-2011   True  \nEM-0200-2011  False  \nTB-2300-2011  False  \nMR-2500-2016   True  \nTB-2300-2017  False  \n...             ...  \nMB-4500-2004   True  \nMM-2800-2005  False  \nJS-3700-2012   True  \nSM-2400-2007   True  \nJG-1850-2016  False  \n\n[436 rows x 14 columns]",
      "text/html": "<div>\n<style scoped>\n    .dataframe tbody tr th:only-of-type {\n        vertical-align: middle;\n    }\n\n    .dataframe tbody tr th {\n        vertical-align: top;\n    }\n\n    .dataframe thead th {\n        text-align: right;\n    }\n</style>\n<table border=\"1\" class=\"dataframe\">\n  <thead>\n    <tr style=\"text-align: right;\">\n      <th></th>\n      <th>year</th>\n      <th>attempts</th>\n      <th>avg_rating</th>\n      <th>sack_rate</th>\n      <th>precip_rate</th>\n      <th>turf_rate</th>\n      <th>wind_rate</th>\n      <th>away_rate</th>\n      <th>height</th>\n      <th>arm</th>\n      <th>hand</th>\n      <th>dpos</th>\n      <th>seasons</th>\n      <th>warm</th>\n    </tr>\n  </thead>\n  <tbody>\n    <tr>\n      <th>DB-3800-2011</th>\n      <td>2011</td>\n      <td>8.0</td>\n      <td>110.6</td>\n      <td>3.65</td>\n      <td>0.00</td>\n      <td>72.22</td>\n      <td>233.33</td>\n      <td>50.00</td>\n      <td>72.0</td>\n      <td>31.250</td>\n      <td>10.00</td>\n      <td>32</td>\n      <td>11</td>\n      <td>True</td>\n    </tr>\n    <tr>\n      <th>EM-0200-2011</th>\n      <td>2011</td>\n      <td>8.0</td>\n      <td>95.1</td>\n      <td>4.93</td>\n      <td>10.00</td>\n      <td>75.00</td>\n      <td>785.00</td>\n      <td>55.00</td>\n      <td>77.0</td>\n      <td>30.750</td>\n      <td>9.75</td>\n      <td>1</td>\n      <td>8</td>\n      <td>False</td>\n    </tr>\n    <tr>\n      <th>TB-2300-2011</th>\n      <td>2011</td>\n      <td>7.0</td>\n      <td>104.8</td>\n      <td>4.62</td>\n      <td>0.00</td>\n      <td>63.16</td>\n      <td>784.21</td>\n      <td>42.11</td>\n      <td>76.0</td>\n      <td>32.750</td>\n      <td>9.38</td>\n      <td>199</td>\n      <td>12</td>\n      <td>False</td>\n    </tr>\n    <tr>\n      <th>MR-2500-2016</th>\n      <td>2016</td>\n      <td>6.0</td>\n      <td>119.9</td>\n      <td>6.61</td>\n      <td>5.26</td>\n      <td>73.68</td>\n      <td>205.26</td>\n      <td>42.11</td>\n      <td>77.0</td>\n      <td>32.375</td>\n      <td>9.50</td>\n      <td>3</td>\n      <td>9</td>\n      <td>True</td>\n    </tr>\n    <tr>\n      <th>TB-2300-2017</th>\n      <td>2017</td>\n      <td>7.0</td>\n      <td>103.9</td>\n      <td>5.12</td>\n      <td>5.26</td>\n      <td>73.68</td>\n      <td>694.74</td>\n      <td>42.11</td>\n      <td>76.0</td>\n      <td>32.750</td>\n      <td>9.38</td>\n      <td>199</td>\n      <td>18</td>\n      <td>False</td>\n    </tr>\n    <tr>\n      <th>...</th>\n      <td>...</td>\n      <td>...</td>\n      <td>...</td>\n      <td>...</td>\n      <td>...</td>\n      <td>...</td>\n      <td>...</td>\n      <td>...</td>\n      <td>...</td>\n      <td>...</td>\n      <td>...</td>\n      <td>...</td>\n      <td>...</td>\n      <td>...</td>\n    </tr>\n    <tr>\n      <th>MB-4500-2004</th>\n      <td>2004</td>\n      <td>2.0</td>\n      <td>63.9</td>\n      <td>5.93</td>\n      <td>0.00</td>\n      <td>22.22</td>\n      <td>855.56</td>\n      <td>44.44</td>\n      <td>73.0</td>\n      <td>32.250</td>\n      <td>9.13</td>\n      <td>118</td>\n      <td>12</td>\n      <td>True</td>\n    </tr>\n    <tr>\n      <th>MM-2800-2005</th>\n      <td>2005</td>\n      <td>2.0</td>\n      <td>55.2</td>\n      <td>8.41</td>\n      <td>11.11</td>\n      <td>22.22</td>\n      <td>488.89</td>\n      <td>33.33</td>\n      <td>74.0</td>\n      <td>32.000</td>\n      <td>9.75</td>\n      <td>149</td>\n      <td>5</td>\n      <td>False</td>\n    </tr>\n    <tr>\n      <th>JS-3700-2012</th>\n      <td>2012</td>\n      <td>2.0</td>\n      <td>55.4</td>\n      <td>6.94</td>\n      <td>14.29</td>\n      <td>57.14</td>\n      <td>285.71</td>\n      <td>57.14</td>\n      <td>77.0</td>\n      <td>32.000</td>\n      <td>9.75</td>\n      <td>285</td>\n      <td>3</td>\n      <td>True</td>\n    </tr>\n    <tr>\n      <th>SM-2400-2007</th>\n      <td>2007</td>\n      <td>2.0</td>\n      <td>73.9</td>\n      <td>4.63</td>\n      <td>16.67</td>\n      <td>16.67</td>\n      <td>583.33</td>\n      <td>66.67</td>\n      <td>74.0</td>\n      <td>32.250</td>\n      <td>10.50</td>\n      <td>3</td>\n      <td>13</td>\n      <td>True</td>\n    </tr>\n    <tr>\n      <th>JG-1850-2016</th>\n      <td>2016</td>\n      <td>2.0</td>\n      <td>63.6</td>\n      <td>11.26</td>\n      <td>14.29</td>\n      <td>42.86</td>\n      <td>314.29</td>\n      <td>42.86</td>\n      <td>76.0</td>\n      <td>32.750</td>\n      <td>9.00</td>\n      <td>1</td>\n      <td>1</td>\n      <td>False</td>\n    </tr>\n  </tbody>\n</table>\n<p>436 rows × 14 columns</p>\n</div>"
     },
     "metadata": {},
     "execution_count": 19
    }
   ],
   "source": [
    "df_exp"
   ]
  },
  {
   "cell_type": "markdown",
   "metadata": {},
   "source": [
    "## Matching"
   ],
   "execution_count": null,
   "outputs": []
  },
  {
   "cell_type": "markdown",
   "metadata": {},
   "source": [
    "### Coarsened Exact Matching"
   ],
   "execution_count": null,
   "outputs": []
  },
  {
   "cell_type": "code",
   "execution_count": 7,
   "metadata": {},
   "outputs": [],
   "source": [
    "from util.matching import CEM"
   ]
  },
  {
   "cell_type": "code",
   "execution_count": 21,
   "metadata": {},
   "outputs": [
    {
     "output_type": "execute_result",
     "data": {
      "text/plain": "{'year': range(3, 5),\n 'attempts': range(3, 5),\n 'sack_rate': range(2, 5),\n 'precip_rate': [2],\n 'turf_rate': [2],\n 'wind_rate': [2],\n 'away_rate': [2],\n 'height': [2],\n 'arm': [2],\n 'hand': [2],\n 'dpos': [2],\n 'seasons': range(3, 5),\n 'warm': [2]}"
     },
     "metadata": {},
     "execution_count": 21
    }
   ],
   "source": [
    "bins = {\n",
    "    'year': range(3,5),\n",
    "    'attempts': range(3,5),\n",
    "    'sack_rate': range(2,5),\n",
    "    'precip_rate': [2],\n",
    "    'turf_rate': [2],\n",
    "    'wind_rate': [2],\n",
    "    'away_rate': [2],\n",
    "    'temp': range(2,5),\n",
    "    'height': [2],\n",
    "    'arm': [2],\n",
    "    'hand': [2],\n",
    "    'dpos': [2],\n",
    "    'temp': [3],\n",
    "    'seasons': range(3,5),\n",
    "    on: [2], # treatment\n",
    "}\n",
    "bins.pop(original)\n",
    "bins"
   ]
  },
  {
   "cell_type": "code",
   "execution_count": null,
   "metadata": {},
   "outputs": [],
   "source": [
    "L1_results = CEM(df_exp, treatment=on, outcome='avg_rating').relax(bins)\n",
    "L1_results"
   ]
  },
  {
   "cell_type": "code",
   "execution_count": 9,
   "metadata": {},
   "outputs": [
    {
     "output_type": "execute_result",
     "data": {
      "text/plain": "<matplotlib.axes._subplots.AxesSubplot at 0x2073b2548c8>"
     },
     "metadata": {},
     "execution_count": 9
    },
    {
     "output_type": "display_data",
     "data": {
      "text/plain": "<Figure size 432x288 with 1 Axes>",
      "image/svg+xml": "<?xml version=\"1.0\" encoding=\"utf-8\" standalone=\"no\"?>\r\n<!DOCTYPE svg PUBLIC \"-//W3C//DTD SVG 1.1//EN\"\r\n  \"http://www.w3.org/Graphics/SVG/1.1/DTD/svg11.dtd\">\r\n<!-- Created with matplotlib (https://matplotlib.org/) -->\r\n<svg height=\"257.630625pt\" version=\"1.1\" viewBox=\"0 0 379.745312 257.630625\" width=\"379.745312pt\" xmlns=\"http://www.w3.org/2000/svg\" xmlns:xlink=\"http://www.w3.org/1999/xlink\">\r\n <defs>\r\n  <style type=\"text/css\">\r\n*{stroke-linecap:butt;stroke-linejoin:round;}\r\n  </style>\r\n </defs>\r\n <g id=\"figure_1\">\r\n  <g id=\"patch_1\">\r\n   <path d=\"M 0 257.630625 \r\nL 379.745312 257.630625 \r\nL 379.745312 0 \r\nL 0 0 \r\nz\r\n\" style=\"fill:#ffffff;\"/>\r\n  </g>\r\n  <g id=\"axes_1\">\r\n   <g id=\"patch_2\">\r\n    <path d=\"M 37.745313 224.64 \r\nL 372.545313 224.64 \r\nL 372.545313 7.2 \r\nL 37.745313 7.2 \r\nz\r\n\" style=\"fill:#eaeaf2;\"/>\r\n   </g>\r\n   <g id=\"matplotlib.axis_1\">\r\n    <g id=\"xtick_1\">\r\n     <g id=\"line2d_1\">\r\n      <path clip-path=\"url(#p6ae952f8d4)\" d=\"M 52.963494 224.64 \r\nL 52.963494 7.2 \r\n\" style=\"fill:none;stroke:#ffffff;stroke-linecap:round;stroke-width:0.8;\"/>\r\n     </g>\r\n     <g id=\"line2d_2\"/>\r\n     <g id=\"text_1\">\r\n      <!-- 2 -->\r\n      <defs>\r\n       <path d=\"M 50.34375 8.453125 \r\nL 50.34375 0 \r\nL 3.03125 0 \r\nQ 2.9375 3.171875 4.046875 6.109375 \r\nQ 5.859375 10.9375 9.828125 15.625 \r\nQ 13.8125 20.3125 21.34375 26.46875 \r\nQ 33.015625 36.03125 37.109375 41.625 \r\nQ 41.21875 47.21875 41.21875 52.203125 \r\nQ 41.21875 57.421875 37.46875 61 \r\nQ 33.734375 64.59375 27.734375 64.59375 \r\nQ 21.390625 64.59375 17.578125 60.78125 \r\nQ 13.765625 56.984375 13.71875 50.25 \r\nL 4.6875 51.171875 \r\nQ 5.609375 61.28125 11.65625 66.578125 \r\nQ 17.71875 71.875 27.9375 71.875 \r\nQ 38.234375 71.875 44.234375 66.15625 \r\nQ 50.25 60.453125 50.25 52 \r\nQ 50.25 47.703125 48.484375 43.546875 \r\nQ 46.734375 39.40625 42.65625 34.8125 \r\nQ 38.578125 30.21875 29.109375 22.21875 \r\nQ 21.1875 15.578125 18.9375 13.203125 \r\nQ 16.703125 10.84375 15.234375 8.453125 \r\nz\r\n\" id=\"ArialMT-50\"/>\r\n      </defs>\r\n      <g style=\"fill:#262626;\" transform=\"translate(50.183026 235.297812)scale(0.1 -0.1)\">\r\n       <use xlink:href=\"#ArialMT-50\"/>\r\n      </g>\r\n     </g>\r\n    </g>\r\n    <g id=\"xtick_2\">\r\n     <g id=\"line2d_3\">\r\n      <path clip-path=\"url(#p6ae952f8d4)\" d=\"M 108.302337 224.64 \r\nL 108.302337 7.2 \r\n\" style=\"fill:none;stroke:#ffffff;stroke-linecap:round;stroke-width:0.8;\"/>\r\n     </g>\r\n     <g id=\"line2d_4\"/>\r\n     <g id=\"text_2\">\r\n      <!-- 4 -->\r\n      <defs>\r\n       <path d=\"M 32.328125 0 \r\nL 32.328125 17.140625 \r\nL 1.265625 17.140625 \r\nL 1.265625 25.203125 \r\nL 33.9375 71.578125 \r\nL 41.109375 71.578125 \r\nL 41.109375 25.203125 \r\nL 50.78125 25.203125 \r\nL 50.78125 17.140625 \r\nL 41.109375 17.140625 \r\nL 41.109375 0 \r\nz\r\nM 32.328125 25.203125 \r\nL 32.328125 57.46875 \r\nL 9.90625 25.203125 \r\nz\r\n\" id=\"ArialMT-52\"/>\r\n      </defs>\r\n      <g style=\"fill:#262626;\" transform=\"translate(105.521869 235.297812)scale(0.1 -0.1)\">\r\n       <use xlink:href=\"#ArialMT-52\"/>\r\n      </g>\r\n     </g>\r\n    </g>\r\n    <g id=\"xtick_3\">\r\n     <g id=\"line2d_5\">\r\n      <path clip-path=\"url(#p6ae952f8d4)\" d=\"M 163.64118 224.64 \r\nL 163.64118 7.2 \r\n\" style=\"fill:none;stroke:#ffffff;stroke-linecap:round;stroke-width:0.8;\"/>\r\n     </g>\r\n     <g id=\"line2d_6\"/>\r\n     <g id=\"text_3\">\r\n      <!-- 6 -->\r\n      <defs>\r\n       <path d=\"M 49.75 54.046875 \r\nL 41.015625 53.375 \r\nQ 39.84375 58.546875 37.703125 60.890625 \r\nQ 34.125 64.65625 28.90625 64.65625 \r\nQ 24.703125 64.65625 21.53125 62.3125 \r\nQ 17.390625 59.28125 14.984375 53.46875 \r\nQ 12.59375 47.65625 12.5 36.921875 \r\nQ 15.671875 41.75 20.265625 44.09375 \r\nQ 24.859375 46.4375 29.890625 46.4375 \r\nQ 38.671875 46.4375 44.84375 39.96875 \r\nQ 51.03125 33.5 51.03125 23.25 \r\nQ 51.03125 16.5 48.125 10.71875 \r\nQ 45.21875 4.9375 40.140625 1.859375 \r\nQ 35.0625 -1.21875 28.609375 -1.21875 \r\nQ 17.625 -1.21875 10.6875 6.859375 \r\nQ 3.765625 14.9375 3.765625 33.5 \r\nQ 3.765625 54.25 11.421875 63.671875 \r\nQ 18.109375 71.875 29.4375 71.875 \r\nQ 37.890625 71.875 43.28125 67.140625 \r\nQ 48.6875 62.40625 49.75 54.046875 \r\nz\r\nM 13.875 23.1875 \r\nQ 13.875 18.65625 15.796875 14.5 \r\nQ 17.71875 10.359375 21.1875 8.171875 \r\nQ 24.65625 6 28.46875 6 \r\nQ 34.03125 6 38.03125 10.484375 \r\nQ 42.046875 14.984375 42.046875 22.703125 \r\nQ 42.046875 30.125 38.078125 34.390625 \r\nQ 34.125 38.671875 28.125 38.671875 \r\nQ 22.171875 38.671875 18.015625 34.390625 \r\nQ 13.875 30.125 13.875 23.1875 \r\nz\r\n\" id=\"ArialMT-54\"/>\r\n      </defs>\r\n      <g style=\"fill:#262626;\" transform=\"translate(160.860712 235.297812)scale(0.1 -0.1)\">\r\n       <use xlink:href=\"#ArialMT-54\"/>\r\n      </g>\r\n     </g>\r\n    </g>\r\n    <g id=\"xtick_4\">\r\n     <g id=\"line2d_7\">\r\n      <path clip-path=\"url(#p6ae952f8d4)\" d=\"M 218.980023 224.64 \r\nL 218.980023 7.2 \r\n\" style=\"fill:none;stroke:#ffffff;stroke-linecap:round;stroke-width:0.8;\"/>\r\n     </g>\r\n     <g id=\"line2d_8\"/>\r\n     <g id=\"text_4\">\r\n      <!-- 8 -->\r\n      <defs>\r\n       <path d=\"M 17.671875 38.8125 \r\nQ 12.203125 40.828125 9.5625 44.53125 \r\nQ 6.9375 48.25 6.9375 53.421875 \r\nQ 6.9375 61.234375 12.546875 66.546875 \r\nQ 18.171875 71.875 27.484375 71.875 \r\nQ 36.859375 71.875 42.578125 66.421875 \r\nQ 48.296875 60.984375 48.296875 53.171875 \r\nQ 48.296875 48.1875 45.671875 44.5 \r\nQ 43.0625 40.828125 37.75 38.8125 \r\nQ 44.34375 36.671875 47.78125 31.875 \r\nQ 51.21875 27.09375 51.21875 20.453125 \r\nQ 51.21875 11.28125 44.71875 5.03125 \r\nQ 38.234375 -1.21875 27.640625 -1.21875 \r\nQ 17.046875 -1.21875 10.546875 5.046875 \r\nQ 4.046875 11.328125 4.046875 20.703125 \r\nQ 4.046875 27.6875 7.59375 32.390625 \r\nQ 11.140625 37.109375 17.671875 38.8125 \r\nz\r\nM 15.921875 53.71875 \r\nQ 15.921875 48.640625 19.1875 45.40625 \r\nQ 22.46875 42.1875 27.6875 42.1875 \r\nQ 32.765625 42.1875 36.015625 45.375 \r\nQ 39.265625 48.578125 39.265625 53.21875 \r\nQ 39.265625 58.0625 35.90625 61.359375 \r\nQ 32.5625 64.65625 27.59375 64.65625 \r\nQ 22.5625 64.65625 19.234375 61.421875 \r\nQ 15.921875 58.203125 15.921875 53.71875 \r\nz\r\nM 13.09375 20.65625 \r\nQ 13.09375 16.890625 14.875 13.375 \r\nQ 16.65625 9.859375 20.171875 7.921875 \r\nQ 23.6875 6 27.734375 6 \r\nQ 34.03125 6 38.125 10.046875 \r\nQ 42.234375 14.109375 42.234375 20.359375 \r\nQ 42.234375 26.703125 38.015625 30.859375 \r\nQ 33.796875 35.015625 27.4375 35.015625 \r\nQ 21.234375 35.015625 17.15625 30.90625 \r\nQ 13.09375 26.8125 13.09375 20.65625 \r\nz\r\n\" id=\"ArialMT-56\"/>\r\n      </defs>\r\n      <g style=\"fill:#262626;\" transform=\"translate(216.199554 235.297812)scale(0.1 -0.1)\">\r\n       <use xlink:href=\"#ArialMT-56\"/>\r\n      </g>\r\n     </g>\r\n    </g>\r\n    <g id=\"xtick_5\">\r\n     <g id=\"line2d_9\">\r\n      <path clip-path=\"url(#p6ae952f8d4)\" d=\"M 274.318866 224.64 \r\nL 274.318866 7.2 \r\n\" style=\"fill:none;stroke:#ffffff;stroke-linecap:round;stroke-width:0.8;\"/>\r\n     </g>\r\n     <g id=\"line2d_10\"/>\r\n     <g id=\"text_5\">\r\n      <!-- 10 -->\r\n      <defs>\r\n       <path d=\"M 37.25 0 \r\nL 28.46875 0 \r\nL 28.46875 56 \r\nQ 25.296875 52.984375 20.140625 49.953125 \r\nQ 14.984375 46.921875 10.890625 45.40625 \r\nL 10.890625 53.90625 \r\nQ 18.265625 57.375 23.78125 62.296875 \r\nQ 29.296875 67.234375 31.59375 71.875 \r\nL 37.25 71.875 \r\nz\r\n\" id=\"ArialMT-49\"/>\r\n       <path d=\"M 4.15625 35.296875 \r\nQ 4.15625 48 6.765625 55.734375 \r\nQ 9.375 63.484375 14.515625 67.671875 \r\nQ 19.671875 71.875 27.484375 71.875 \r\nQ 33.25 71.875 37.59375 69.546875 \r\nQ 41.9375 67.234375 44.765625 62.859375 \r\nQ 47.609375 58.5 49.21875 52.21875 \r\nQ 50.828125 45.953125 50.828125 35.296875 \r\nQ 50.828125 22.703125 48.234375 14.96875 \r\nQ 45.65625 7.234375 40.5 3 \r\nQ 35.359375 -1.21875 27.484375 -1.21875 \r\nQ 17.140625 -1.21875 11.234375 6.203125 \r\nQ 4.15625 15.140625 4.15625 35.296875 \r\nz\r\nM 13.1875 35.296875 \r\nQ 13.1875 17.671875 17.3125 11.828125 \r\nQ 21.4375 6 27.484375 6 \r\nQ 33.546875 6 37.671875 11.859375 \r\nQ 41.796875 17.71875 41.796875 35.296875 \r\nQ 41.796875 52.984375 37.671875 58.78125 \r\nQ 33.546875 64.59375 27.390625 64.59375 \r\nQ 21.34375 64.59375 17.71875 59.46875 \r\nQ 13.1875 52.9375 13.1875 35.296875 \r\nz\r\n\" id=\"ArialMT-48\"/>\r\n      </defs>\r\n      <g style=\"fill:#262626;\" transform=\"translate(268.757929 235.297812)scale(0.1 -0.1)\">\r\n       <use xlink:href=\"#ArialMT-49\"/>\r\n       <use x=\"55.615234\" xlink:href=\"#ArialMT-48\"/>\r\n      </g>\r\n     </g>\r\n    </g>\r\n    <g id=\"xtick_6\">\r\n     <g id=\"line2d_11\">\r\n      <path clip-path=\"url(#p6ae952f8d4)\" d=\"M 329.657709 224.64 \r\nL 329.657709 7.2 \r\n\" style=\"fill:none;stroke:#ffffff;stroke-linecap:round;stroke-width:0.8;\"/>\r\n     </g>\r\n     <g id=\"line2d_12\"/>\r\n     <g id=\"text_6\">\r\n      <!-- 12 -->\r\n      <g style=\"fill:#262626;\" transform=\"translate(324.096772 235.297812)scale(0.1 -0.1)\">\r\n       <use xlink:href=\"#ArialMT-49\"/>\r\n       <use x=\"55.615234\" xlink:href=\"#ArialMT-50\"/>\r\n      </g>\r\n     </g>\r\n    </g>\r\n    <g id=\"text_7\">\r\n     <!-- controls -->\r\n     <defs>\r\n      <path d=\"M 40.4375 19 \r\nL 49.078125 17.875 \r\nQ 47.65625 8.9375 41.8125 3.875 \r\nQ 35.984375 -1.171875 27.484375 -1.171875 \r\nQ 16.84375 -1.171875 10.375 5.78125 \r\nQ 3.90625 12.75 3.90625 25.734375 \r\nQ 3.90625 34.125 6.6875 40.421875 \r\nQ 9.46875 46.734375 15.15625 49.875 \r\nQ 20.84375 53.03125 27.546875 53.03125 \r\nQ 35.984375 53.03125 41.359375 48.75 \r\nQ 46.734375 44.484375 48.25 36.625 \r\nL 39.703125 35.296875 \r\nQ 38.484375 40.53125 35.375 43.15625 \r\nQ 32.28125 45.796875 27.875 45.796875 \r\nQ 21.234375 45.796875 17.078125 41.03125 \r\nQ 12.9375 36.28125 12.9375 25.984375 \r\nQ 12.9375 15.53125 16.9375 10.796875 \r\nQ 20.953125 6.0625 27.390625 6.0625 \r\nQ 32.5625 6.0625 36.03125 9.234375 \r\nQ 39.5 12.40625 40.4375 19 \r\nz\r\n\" id=\"ArialMT-99\"/>\r\n      <path d=\"M 3.328125 25.921875 \r\nQ 3.328125 40.328125 11.328125 47.265625 \r\nQ 18.015625 53.03125 27.640625 53.03125 \r\nQ 38.328125 53.03125 45.109375 46.015625 \r\nQ 51.90625 39.015625 51.90625 26.65625 \r\nQ 51.90625 16.65625 48.90625 10.90625 \r\nQ 45.90625 5.171875 40.15625 2 \r\nQ 34.421875 -1.171875 27.640625 -1.171875 \r\nQ 16.75 -1.171875 10.03125 5.8125 \r\nQ 3.328125 12.796875 3.328125 25.921875 \r\nz\r\nM 12.359375 25.921875 \r\nQ 12.359375 15.96875 16.703125 11.015625 \r\nQ 21.046875 6.0625 27.640625 6.0625 \r\nQ 34.1875 6.0625 38.53125 11.03125 \r\nQ 42.875 16.015625 42.875 26.21875 \r\nQ 42.875 35.84375 38.5 40.796875 \r\nQ 34.125 45.75 27.640625 45.75 \r\nQ 21.046875 45.75 16.703125 40.8125 \r\nQ 12.359375 35.890625 12.359375 25.921875 \r\nz\r\n\" id=\"ArialMT-111\"/>\r\n      <path d=\"M 6.59375 0 \r\nL 6.59375 51.859375 \r\nL 14.5 51.859375 \r\nL 14.5 44.484375 \r\nQ 20.21875 53.03125 31 53.03125 \r\nQ 35.6875 53.03125 39.625 51.34375 \r\nQ 43.5625 49.65625 45.515625 46.921875 \r\nQ 47.46875 44.1875 48.25 40.4375 \r\nQ 48.734375 37.984375 48.734375 31.890625 \r\nL 48.734375 0 \r\nL 39.9375 0 \r\nL 39.9375 31.546875 \r\nQ 39.9375 36.921875 38.90625 39.578125 \r\nQ 37.890625 42.234375 35.28125 43.8125 \r\nQ 32.671875 45.40625 29.15625 45.40625 \r\nQ 23.53125 45.40625 19.453125 41.84375 \r\nQ 15.375 38.28125 15.375 28.328125 \r\nL 15.375 0 \r\nz\r\n\" id=\"ArialMT-110\"/>\r\n      <path d=\"M 25.78125 7.859375 \r\nL 27.046875 0.09375 \r\nQ 23.34375 -0.6875 20.40625 -0.6875 \r\nQ 15.625 -0.6875 12.984375 0.828125 \r\nQ 10.359375 2.34375 9.28125 4.8125 \r\nQ 8.203125 7.28125 8.203125 15.1875 \r\nL 8.203125 45.015625 \r\nL 1.765625 45.015625 \r\nL 1.765625 51.859375 \r\nL 8.203125 51.859375 \r\nL 8.203125 64.703125 \r\nL 16.9375 69.96875 \r\nL 16.9375 51.859375 \r\nL 25.78125 51.859375 \r\nL 25.78125 45.015625 \r\nL 16.9375 45.015625 \r\nL 16.9375 14.703125 \r\nQ 16.9375 10.9375 17.40625 9.859375 \r\nQ 17.875 8.796875 18.921875 8.15625 \r\nQ 19.96875 7.515625 21.921875 7.515625 \r\nQ 23.390625 7.515625 25.78125 7.859375 \r\nz\r\n\" id=\"ArialMT-116\"/>\r\n      <path d=\"M 6.5 0 \r\nL 6.5 51.859375 \r\nL 14.40625 51.859375 \r\nL 14.40625 44 \r\nQ 17.4375 49.515625 20 51.265625 \r\nQ 22.5625 53.03125 25.640625 53.03125 \r\nQ 30.078125 53.03125 34.671875 50.203125 \r\nL 31.640625 42.046875 \r\nQ 28.421875 43.953125 25.203125 43.953125 \r\nQ 22.3125 43.953125 20.015625 42.21875 \r\nQ 17.71875 40.484375 16.75 37.40625 \r\nQ 15.28125 32.71875 15.28125 27.15625 \r\nL 15.28125 0 \r\nz\r\n\" id=\"ArialMT-114\"/>\r\n      <path d=\"M 6.390625 0 \r\nL 6.390625 71.578125 \r\nL 15.1875 71.578125 \r\nL 15.1875 0 \r\nz\r\n\" id=\"ArialMT-108\"/>\r\n      <path d=\"M 3.078125 15.484375 \r\nL 11.765625 16.84375 \r\nQ 12.5 11.625 15.84375 8.84375 \r\nQ 19.1875 6.0625 25.203125 6.0625 \r\nQ 31.25 6.0625 34.171875 8.515625 \r\nQ 37.109375 10.984375 37.109375 14.3125 \r\nQ 37.109375 17.28125 34.515625 19 \r\nQ 32.71875 20.171875 25.53125 21.96875 \r\nQ 15.875 24.421875 12.140625 26.203125 \r\nQ 8.40625 27.984375 6.46875 31.125 \r\nQ 4.546875 34.28125 4.546875 38.09375 \r\nQ 4.546875 41.546875 6.125 44.5 \r\nQ 7.71875 47.46875 10.453125 49.421875 \r\nQ 12.5 50.921875 16.03125 51.96875 \r\nQ 19.578125 53.03125 23.640625 53.03125 \r\nQ 29.734375 53.03125 34.34375 51.265625 \r\nQ 38.96875 49.515625 41.15625 46.5 \r\nQ 43.359375 43.5 44.1875 38.484375 \r\nL 35.59375 37.3125 \r\nQ 35.015625 41.3125 32.203125 43.546875 \r\nQ 29.390625 45.796875 24.265625 45.796875 \r\nQ 18.21875 45.796875 15.625 43.796875 \r\nQ 13.03125 41.796875 13.03125 39.109375 \r\nQ 13.03125 37.40625 14.109375 36.03125 \r\nQ 15.1875 34.625 17.484375 33.6875 \r\nQ 18.796875 33.203125 25.25 31.453125 \r\nQ 34.578125 28.953125 38.25 27.359375 \r\nQ 41.9375 25.78125 44.03125 22.75 \r\nQ 46.140625 19.734375 46.140625 15.234375 \r\nQ 46.140625 10.84375 43.578125 6.953125 \r\nQ 41.015625 3.078125 36.171875 0.953125 \r\nQ 31.34375 -1.171875 25.25 -1.171875 \r\nQ 15.140625 -1.171875 9.84375 3.03125 \r\nQ 4.546875 7.234375 3.078125 15.484375 \r\nz\r\n\" id=\"ArialMT-115\"/>\r\n     </defs>\r\n     <g style=\"fill:#262626;\" transform=\"translate(187.639063 248.443125)scale(0.1 -0.1)\">\r\n      <use xlink:href=\"#ArialMT-99\"/>\r\n      <use x=\"50\" xlink:href=\"#ArialMT-111\"/>\r\n      <use x=\"105.615234\" xlink:href=\"#ArialMT-110\"/>\r\n      <use x=\"161.230469\" xlink:href=\"#ArialMT-116\"/>\r\n      <use x=\"189.013672\" xlink:href=\"#ArialMT-114\"/>\r\n      <use x=\"222.314453\" xlink:href=\"#ArialMT-111\"/>\r\n      <use x=\"277.929688\" xlink:href=\"#ArialMT-108\"/>\r\n      <use x=\"300.146484\" xlink:href=\"#ArialMT-115\"/>\r\n     </g>\r\n    </g>\r\n   </g>\r\n   <g id=\"matplotlib.axis_2\">\r\n    <g id=\"ytick_1\">\r\n     <g id=\"line2d_13\">\r\n      <path clip-path=\"url(#p6ae952f8d4)\" d=\"M 37.745313 214.756364 \r\nL 372.545313 214.756364 \r\n\" style=\"fill:none;stroke:#ffffff;stroke-linecap:round;stroke-width:0.8;\"/>\r\n     </g>\r\n     <g id=\"line2d_14\"/>\r\n     <g id=\"text_8\">\r\n      <!-- 0.5 -->\r\n      <defs>\r\n       <path d=\"M 9.078125 0 \r\nL 9.078125 10.015625 \r\nL 19.09375 10.015625 \r\nL 19.09375 0 \r\nz\r\n\" id=\"ArialMT-46\"/>\r\n       <path d=\"M 4.15625 18.75 \r\nL 13.375 19.53125 \r\nQ 14.40625 12.796875 18.140625 9.390625 \r\nQ 21.875 6 27.15625 6 \r\nQ 33.5 6 37.890625 10.78125 \r\nQ 42.28125 15.578125 42.28125 23.484375 \r\nQ 42.28125 31 38.0625 35.34375 \r\nQ 33.84375 39.703125 27 39.703125 \r\nQ 22.75 39.703125 19.328125 37.765625 \r\nQ 15.921875 35.84375 13.96875 32.765625 \r\nL 5.71875 33.84375 \r\nL 12.640625 70.609375 \r\nL 48.25 70.609375 \r\nL 48.25 62.203125 \r\nL 19.671875 62.203125 \r\nL 15.828125 42.96875 \r\nQ 22.265625 47.46875 29.34375 47.46875 \r\nQ 38.71875 47.46875 45.15625 40.96875 \r\nQ 51.609375 34.46875 51.609375 24.265625 \r\nQ 51.609375 14.546875 45.953125 7.46875 \r\nQ 39.0625 -1.21875 27.15625 -1.21875 \r\nQ 17.390625 -1.21875 11.203125 4.25 \r\nQ 5.03125 9.71875 4.15625 18.75 \r\nz\r\n\" id=\"ArialMT-53\"/>\r\n      </defs>\r\n      <g style=\"fill:#262626;\" transform=\"translate(20.345313 218.33527)scale(0.1 -0.1)\">\r\n       <use xlink:href=\"#ArialMT-48\"/>\r\n       <use x=\"55.615234\" xlink:href=\"#ArialMT-46\"/>\r\n       <use x=\"83.398438\" xlink:href=\"#ArialMT-53\"/>\r\n      </g>\r\n     </g>\r\n    </g>\r\n    <g id=\"ytick_2\">\r\n     <g id=\"line2d_15\">\r\n      <path clip-path=\"url(#p6ae952f8d4)\" d=\"M 37.745313 175.221818 \r\nL 372.545313 175.221818 \r\n\" style=\"fill:none;stroke:#ffffff;stroke-linecap:round;stroke-width:0.8;\"/>\r\n     </g>\r\n     <g id=\"line2d_16\"/>\r\n     <g id=\"text_9\">\r\n      <!-- 0.6 -->\r\n      <g style=\"fill:#262626;\" transform=\"translate(20.345313 178.800724)scale(0.1 -0.1)\">\r\n       <use xlink:href=\"#ArialMT-48\"/>\r\n       <use x=\"55.615234\" xlink:href=\"#ArialMT-46\"/>\r\n       <use x=\"83.398438\" xlink:href=\"#ArialMT-54\"/>\r\n      </g>\r\n     </g>\r\n    </g>\r\n    <g id=\"ytick_3\">\r\n     <g id=\"line2d_17\">\r\n      <path clip-path=\"url(#p6ae952f8d4)\" d=\"M 37.745313 135.687273 \r\nL 372.545313 135.687273 \r\n\" style=\"fill:none;stroke:#ffffff;stroke-linecap:round;stroke-width:0.8;\"/>\r\n     </g>\r\n     <g id=\"line2d_18\"/>\r\n     <g id=\"text_10\">\r\n      <!-- 0.7 -->\r\n      <defs>\r\n       <path d=\"M 4.734375 62.203125 \r\nL 4.734375 70.65625 \r\nL 51.078125 70.65625 \r\nL 51.078125 63.8125 \r\nQ 44.234375 56.546875 37.515625 44.484375 \r\nQ 30.8125 32.421875 27.15625 19.671875 \r\nQ 24.515625 10.6875 23.78125 0 \r\nL 14.75 0 \r\nQ 14.890625 8.453125 18.0625 20.40625 \r\nQ 21.234375 32.375 27.171875 43.484375 \r\nQ 33.109375 54.59375 39.796875 62.203125 \r\nz\r\n\" id=\"ArialMT-55\"/>\r\n      </defs>\r\n      <g style=\"fill:#262626;\" transform=\"translate(20.345313 139.266179)scale(0.1 -0.1)\">\r\n       <use xlink:href=\"#ArialMT-48\"/>\r\n       <use x=\"55.615234\" xlink:href=\"#ArialMT-46\"/>\r\n       <use x=\"83.398438\" xlink:href=\"#ArialMT-55\"/>\r\n      </g>\r\n     </g>\r\n    </g>\r\n    <g id=\"ytick_4\">\r\n     <g id=\"line2d_19\">\r\n      <path clip-path=\"url(#p6ae952f8d4)\" d=\"M 37.745313 96.152727 \r\nL 372.545313 96.152727 \r\n\" style=\"fill:none;stroke:#ffffff;stroke-linecap:round;stroke-width:0.8;\"/>\r\n     </g>\r\n     <g id=\"line2d_20\"/>\r\n     <g id=\"text_11\">\r\n      <!-- 0.8 -->\r\n      <g style=\"fill:#262626;\" transform=\"translate(20.345313 99.731634)scale(0.1 -0.1)\">\r\n       <use xlink:href=\"#ArialMT-48\"/>\r\n       <use x=\"55.615234\" xlink:href=\"#ArialMT-46\"/>\r\n       <use x=\"83.398438\" xlink:href=\"#ArialMT-56\"/>\r\n      </g>\r\n     </g>\r\n    </g>\r\n    <g id=\"ytick_5\">\r\n     <g id=\"line2d_21\">\r\n      <path clip-path=\"url(#p6ae952f8d4)\" d=\"M 37.745313 56.618182 \r\nL 372.545313 56.618182 \r\n\" style=\"fill:none;stroke:#ffffff;stroke-linecap:round;stroke-width:0.8;\"/>\r\n     </g>\r\n     <g id=\"line2d_22\"/>\r\n     <g id=\"text_12\">\r\n      <!-- 0.9 -->\r\n      <defs>\r\n       <path d=\"M 5.46875 16.546875 \r\nL 13.921875 17.328125 \r\nQ 14.984375 11.375 18.015625 8.6875 \r\nQ 21.046875 6 25.78125 6 \r\nQ 29.828125 6 32.875 7.859375 \r\nQ 35.9375 9.71875 37.890625 12.8125 \r\nQ 39.84375 15.921875 41.15625 21.1875 \r\nQ 42.484375 26.46875 42.484375 31.9375 \r\nQ 42.484375 32.515625 42.4375 33.6875 \r\nQ 39.796875 29.5 35.234375 26.875 \r\nQ 30.671875 24.265625 25.34375 24.265625 \r\nQ 16.453125 24.265625 10.296875 30.703125 \r\nQ 4.15625 37.15625 4.15625 47.703125 \r\nQ 4.15625 58.59375 10.578125 65.234375 \r\nQ 17 71.875 26.65625 71.875 \r\nQ 33.640625 71.875 39.421875 68.109375 \r\nQ 45.21875 64.359375 48.21875 57.390625 \r\nQ 51.21875 50.4375 51.21875 37.25 \r\nQ 51.21875 23.53125 48.234375 15.40625 \r\nQ 45.265625 7.28125 39.375 3.03125 \r\nQ 33.5 -1.21875 25.59375 -1.21875 \r\nQ 17.1875 -1.21875 11.859375 3.4375 \r\nQ 6.546875 8.109375 5.46875 16.546875 \r\nz\r\nM 41.453125 48.140625 \r\nQ 41.453125 55.71875 37.421875 60.15625 \r\nQ 33.40625 64.59375 27.734375 64.59375 \r\nQ 21.875 64.59375 17.53125 59.8125 \r\nQ 13.1875 55.03125 13.1875 47.40625 \r\nQ 13.1875 40.578125 17.3125 36.296875 \r\nQ 21.4375 32.03125 27.484375 32.03125 \r\nQ 33.59375 32.03125 37.515625 36.296875 \r\nQ 41.453125 40.578125 41.453125 48.140625 \r\nz\r\n\" id=\"ArialMT-57\"/>\r\n      </defs>\r\n      <g style=\"fill:#262626;\" transform=\"translate(20.345313 60.197088)scale(0.1 -0.1)\">\r\n       <use xlink:href=\"#ArialMT-48\"/>\r\n       <use x=\"55.615234\" xlink:href=\"#ArialMT-46\"/>\r\n       <use x=\"83.398438\" xlink:href=\"#ArialMT-57\"/>\r\n      </g>\r\n     </g>\r\n    </g>\r\n    <g id=\"ytick_6\">\r\n     <g id=\"line2d_23\">\r\n      <path clip-path=\"url(#p6ae952f8d4)\" d=\"M 37.745313 17.083636 \r\nL 372.545313 17.083636 \r\n\" style=\"fill:none;stroke:#ffffff;stroke-linecap:round;stroke-width:0.8;\"/>\r\n     </g>\r\n     <g id=\"line2d_24\"/>\r\n     <g id=\"text_13\">\r\n      <!-- 1.0 -->\r\n      <g style=\"fill:#262626;\" transform=\"translate(20.345313 20.662543)scale(0.1 -0.1)\">\r\n       <use xlink:href=\"#ArialMT-49\"/>\r\n       <use x=\"55.615234\" xlink:href=\"#ArialMT-46\"/>\r\n       <use x=\"83.398438\" xlink:href=\"#ArialMT-48\"/>\r\n      </g>\r\n     </g>\r\n    </g>\r\n    <g id=\"text_14\">\r\n     <!-- statistic -->\r\n     <defs>\r\n      <path d=\"M 40.4375 6.390625 \r\nQ 35.546875 2.25 31.03125 0.53125 \r\nQ 26.515625 -1.171875 21.34375 -1.171875 \r\nQ 12.796875 -1.171875 8.203125 3 \r\nQ 3.609375 7.171875 3.609375 13.671875 \r\nQ 3.609375 17.484375 5.34375 20.625 \r\nQ 7.078125 23.78125 9.890625 25.6875 \r\nQ 12.703125 27.59375 16.21875 28.5625 \r\nQ 18.796875 29.25 24.03125 29.890625 \r\nQ 34.671875 31.15625 39.703125 32.90625 \r\nQ 39.75 34.71875 39.75 35.203125 \r\nQ 39.75 40.578125 37.25 42.78125 \r\nQ 33.890625 45.75 27.25 45.75 \r\nQ 21.046875 45.75 18.09375 43.578125 \r\nQ 15.140625 41.40625 13.71875 35.890625 \r\nL 5.125 37.0625 \r\nQ 6.296875 42.578125 8.984375 45.96875 \r\nQ 11.671875 49.359375 16.75 51.1875 \r\nQ 21.828125 53.03125 28.515625 53.03125 \r\nQ 35.15625 53.03125 39.296875 51.46875 \r\nQ 43.453125 49.90625 45.40625 47.53125 \r\nQ 47.359375 45.171875 48.140625 41.546875 \r\nQ 48.578125 39.3125 48.578125 33.453125 \r\nL 48.578125 21.734375 \r\nQ 48.578125 9.46875 49.140625 6.21875 \r\nQ 49.703125 2.984375 51.375 0 \r\nL 42.1875 0 \r\nQ 40.828125 2.734375 40.4375 6.390625 \r\nz\r\nM 39.703125 26.03125 \r\nQ 34.90625 24.078125 25.34375 22.703125 \r\nQ 19.921875 21.921875 17.671875 20.9375 \r\nQ 15.4375 19.96875 14.203125 18.09375 \r\nQ 12.984375 16.21875 12.984375 13.921875 \r\nQ 12.984375 10.40625 15.640625 8.0625 \r\nQ 18.3125 5.71875 23.4375 5.71875 \r\nQ 28.515625 5.71875 32.46875 7.9375 \r\nQ 36.421875 10.15625 38.28125 14.015625 \r\nQ 39.703125 17 39.703125 22.796875 \r\nz\r\n\" id=\"ArialMT-97\"/>\r\n      <path d=\"M 6.640625 61.46875 \r\nL 6.640625 71.578125 \r\nL 15.4375 71.578125 \r\nL 15.4375 61.46875 \r\nz\r\nM 6.640625 0 \r\nL 6.640625 51.859375 \r\nL 15.4375 51.859375 \r\nL 15.4375 0 \r\nz\r\n\" id=\"ArialMT-105\"/>\r\n     </defs>\r\n     <g style=\"fill:#262626;\" transform=\"translate(14.357813 132.589531)rotate(-90)scale(0.1 -0.1)\">\r\n      <use xlink:href=\"#ArialMT-115\"/>\r\n      <use x=\"50\" xlink:href=\"#ArialMT-116\"/>\r\n      <use x=\"77.783203\" xlink:href=\"#ArialMT-97\"/>\r\n      <use x=\"133.398438\" xlink:href=\"#ArialMT-116\"/>\r\n      <use x=\"161.181641\" xlink:href=\"#ArialMT-105\"/>\r\n      <use x=\"183.398438\" xlink:href=\"#ArialMT-115\"/>\r\n      <use x=\"233.398438\" xlink:href=\"#ArialMT-116\"/>\r\n      <use x=\"261.181641\" xlink:href=\"#ArialMT-105\"/>\r\n      <use x=\"283.398438\" xlink:href=\"#ArialMT-99\"/>\r\n     </g>\r\n    </g>\r\n   </g>\r\n   <g id=\"PolyCollection_1\">\r\n    <defs>\r\n     <path d=\"M 52.963494 -42.874261 \r\nL 52.963494 -42.874261 \r\nL 80.632916 -240.546989 \r\nL 108.302337 -240.546989 \r\nL 135.971759 -240.546989 \r\nL 163.64118 -240.546989 \r\nL 191.310602 -240.546989 \r\nL 218.980023 -240.546989 \r\nL 246.649445 -240.546989 \r\nL 274.318866 -240.546989 \r\nL 301.988288 -240.546989 \r\nL 357.327131 -240.546989 \r\nL 357.327131 -240.546989 \r\nL 357.327131 -240.546989 \r\nL 301.988288 -240.546989 \r\nL 274.318866 -240.546989 \r\nL 246.649445 -240.546989 \r\nL 218.980023 -240.546989 \r\nL 191.310602 -240.546989 \r\nL 163.64118 -240.546989 \r\nL 135.971759 -240.546989 \r\nL 108.302337 -240.546989 \r\nL 80.632916 -240.546989 \r\nL 52.963494 -42.874261 \r\nz\r\n\" id=\"ma1952b9048\" style=\"stroke:#1f77b4;stroke-opacity:0.2;\"/>\r\n    </defs>\r\n    <g clip-path=\"url(#p6ae952f8d4)\">\r\n     <use style=\"fill:#1f77b4;fill-opacity:0.2;stroke:#1f77b4;stroke-opacity:0.2;\" x=\"0\" xlink:href=\"#ma1952b9048\" y=\"257.630625\"/>\r\n    </g>\r\n   </g>\r\n   <g id=\"line2d_25\">\r\n    <path clip-path=\"url(#p6ae952f8d4)\" d=\"M 52.963494 214.756364 \r\nL 80.632916 17.083636 \r\nL 108.302337 17.083636 \r\nL 135.971759 17.083636 \r\nL 163.64118 17.083636 \r\nL 191.310602 17.083636 \r\nL 218.980023 17.083636 \r\nL 246.649445 17.083636 \r\nL 274.318866 17.083636 \r\nL 301.988288 17.083636 \r\nL 357.327131 17.083636 \r\n\" style=\"fill:none;stroke:#1f77b4;stroke-linecap:round;stroke-width:1.5;\"/>\r\n   </g>\r\n   <g id=\"patch_3\">\r\n    <path d=\"M 37.745313 224.64 \r\nL 37.745313 7.2 \r\n\" style=\"fill:none;\"/>\r\n   </g>\r\n   <g id=\"patch_4\">\r\n    <path d=\"M 372.545313 224.64 \r\nL 372.545313 7.2 \r\n\" style=\"fill:none;\"/>\r\n   </g>\r\n   <g id=\"patch_5\">\r\n    <path d=\"M 37.745313 224.64 \r\nL 372.545312 224.64 \r\n\" style=\"fill:none;\"/>\r\n   </g>\r\n   <g id=\"patch_6\">\r\n    <path d=\"M 37.745313 7.2 \r\nL 372.545312 7.2 \r\n\" style=\"fill:none;\"/>\r\n   </g>\r\n  </g>\r\n </g>\r\n <defs>\r\n  <clipPath id=\"p6ae952f8d4\">\r\n   <rect height=\"217.44\" width=\"334.8\" x=\"37.745313\" y=\"7.2\"/>\r\n  </clipPath>\r\n </defs>\r\n</svg>\r\n",
      "image/png": "[encoded data removed]"
     },
     "metadata": {}
    }
   ],
   "source": [
    "sns.lineplot(x='controls', y='statistic', data=L1_results)"
   ]
  },
  {
   "cell_type": "code",
   "execution_count": null,
   "metadata": {},
   "outputs": [],
   "source": [
    "#model\n",
    "cem = CEM(df, treatment=on, outcome='good')\n",
    "summary = cem.regress(bins=bins, drop=drop)"
   ]
  },
  {
   "cell_type": "code",
   "execution_count": null,
   "metadata": {},
   "outputs": [],
   "source": [
    "from util.matching import summary_to_frame\n",
    "results = pd.concat([summary_to_frame(s['summary'],s['n_bins'],s['vc'], dtype=float) for s in summary.values()]).dropna()\n",
    "results = results.loc[results['P>|z|']<=0.1, :]\n",
    "results"
   ]
  },
  {
   "cell_type": "code",
   "execution_count": null,
   "metadata": {},
   "outputs": [],
   "source": [
    "sns.lineplot(x='n_bins', y='coef', data=results.loc[results['covariate']!='Intercept', :], hue='covariate')"
   ]
  },
  {
   "cell_type": "code",
   "execution_count": null,
   "metadata": {},
   "outputs": [],
   "source": [
    "from util.matching import covariate_dists\n",
    "covariate_dists(cem.data.loc[cem.weights>0, :], on=on, kde=False, hist=True, n_bins=10)"
   ]
  },
  {
   "cell_type": "markdown",
   "metadata": {},
   "source": [
    "### Mahalanobis Matching"
   ],
   "execution_count": null,
   "outputs": []
  },
  {
   "cell_type": "markdown",
   "metadata": {},
   "source": [
    "We can calculate the mahalanobis frontier to see how the aggregate mahalanobis distance is changing with radius."
   ],
   "execution_count": null,
   "outputs": []
  },
  {
   "cell_type": "code",
   "execution_count": null,
   "metadata": {},
   "outputs": [],
   "source": [
    "from util.matching import mahalanobis_frontier, match_by_distance\n",
    "df_exp[on] = df_exp[on].astype(bool)\n",
    "df_mf = mahalanobis_frontier(df_exp.drop('avg_rating', axis=1), on)\n",
    "df_mf"
   ]
  },
  {
   "cell_type": "code",
   "execution_count": null,
   "metadata": {},
   "outputs": [],
   "source": [
    "sns.lineplot(x='pruned controls', y='AMD', data=df_mf)\n",
    "plt.title('Mahalanobis Matching Frontier')\n",
    "plt.show()\n",
    "plt.title('Mahalanobis Matching Frontier')\n",
    "sns.lineplot(x='pruned treatments', y='AMD', data=df_mf)\n",
    "plt.show()\n",
    "plt.title('Mahalanobis Matching Frontier')\n",
    "sns.lineplot(x='radius', y='AMD', data=df_mf)"
   ]
  },
  {
   "cell_type": "markdown",
   "metadata": {},
   "source": [
    "We choose a reasonable radius/caliper to minimise difference in marginal distributions but also keep as many controls as possible. This is a little difficult because we're not working with very large sample sizes as it is."
   ],
   "execution_count": null,
   "outputs": []
  },
  {
   "cell_type": "code",
   "execution_count": null,
   "metadata": {},
   "outputs": [],
   "source": [
    "df_matched = match_by_distance(df_exp, on, 'avg_rating', 'mahalanobis', caliper=2)"
   ]
  },
  {
   "cell_type": "code",
   "execution_count": null,
   "metadata": {},
   "outputs": [],
   "source": [
    "from util.matching import covariate_dists\n",
    "covariate_dists(df_matched.drop('avg_rating', axis=1), on=on, kde=False, hist=True, n_bins=10)"
   ]
  },
  {
   "cell_type": "markdown",
   "metadata": {},
   "source": [
    "We can perform a t-test for difference of sample means. We're more interested in distribution similarity, but large difference of means can indicate problems. The p value is the probability of observing such a difference between sample means given their population means are equal."
   ],
   "execution_count": null,
   "outputs": []
  },
  {
   "cell_type": "code",
   "execution_count": null,
   "metadata": {},
   "outputs": [],
   "source": [
    "from scipy.stats import ttest_ind\n",
    "\n",
    "for col in df_matched.drop(['avg_rating', on], axis=1).columns:\n",
    "    rvs1 = df_matched.loc[df_matched[on], col]\n",
    "    rvs2 = df_matched.loc[~df_matched[on], col]\n",
    "    _, p = ttest_ind(rvs1, rvs2, equal_var = False)\n",
    "    print(f'P(x|H0) for {col}: {round(p,2)}')"
   ]
  },
  {
   "cell_type": "code",
   "execution_count": null,
   "metadata": {},
   "outputs": [],
   "source": [
    "df_treatment = df_matched.loc[df_matched[on],:]\n",
    "df_control = df_matched.loc[~df_matched[on], :]\n",
    "print(len(df_treatment), f'{on} samples.', len(df_control), f'not {on} samples.')"
   ]
  },
  {
   "cell_type": "markdown",
   "metadata": {},
   "source": [
    "## Model\n",
    "\n",
    "We'll use the BEST method for comparing means of the two groups."
   ],
   "execution_count": null,
   "outputs": []
  },
  {
   "cell_type": "code",
   "execution_count": null,
   "metadata": {},
   "outputs": [],
   "source": [
    "treatment = df_treatment['avg_rating']\n",
    "control = df_control['avg_rating']"
   ]
  },
  {
   "cell_type": "code",
   "execution_count": null,
   "metadata": {},
   "outputs": [],
   "source": [
    "f, axes = plt.subplots(1,2, sharey=True, sharex=True)\n",
    "sns.distplot(treatment, ax=axes[0])\n",
    "axes[0].set_title(f'Passer rating - {on}')\n",
    "sns.distplot(control, ax=axes[1])\n",
    "axes[1].set_title(f'Passer rating - not {on}')\n",
    "plt.show()"
   ]
  },
  {
   "cell_type": "markdown",
   "metadata": {},
   "source": [
    "Because of the relatively small sample sizes we assume our distributions are of the students-t distribution (Kruschke).\n",
    "The students-t has a mean, variance, and degree-of-freedom.\n",
    "The degree of freedom control the normality of the data (larger dof converges to normal distribution).\n",
    "\n",
    "Lets set up the model"
   ],
   "execution_count": null,
   "outputs": []
  },
  {
   "cell_type": "code",
   "execution_count": null,
   "metadata": {},
   "outputs": [],
   "source": [
    "# priors on the mean\n",
    "m_mu = pd.concat([control,treatment]).mean()\n",
    "m_sd = pd.concat([control,treatment]).std()\n",
    "\n",
    "with pm.Model() as model:\n",
    "    treatment_mean = pm.Normal('treatment_mean', mu=m_mu, sd=m_sd)\n",
    "    control_mean = pm.Normal('control_mean', mu=m_mu, sd=m_sd)"
   ]
  },
  {
   "cell_type": "code",
   "execution_count": null,
   "metadata": {},
   "outputs": [],
   "source": [
    "# priors on the standard deviation\n",
    "sd_low = 1\n",
    "sd_high = 30\n",
    "\n",
    "with model:\n",
    "    treatment_std = pm.Uniform('treatment_std', lower=sd_low, upper=sd_high)\n",
    "    control_std = pm.Uniform('control_std', lower=sd_low, upper=sd_high)"
   ]
  },
  {
   "cell_type": "code",
   "execution_count": null,
   "metadata": {},
   "outputs": [],
   "source": [
    "# shared prior on the degree of freedom parameter\n",
    "with model:\n",
    "    v = pm.Exponential('v_minus_one', 1/29.) + 1"
   ]
  },
  {
   "cell_type": "code",
   "execution_count": null,
   "metadata": {},
   "outputs": [],
   "source": [
    "# pymc3 paramaterises students t with precision, rather than standard deviation (lambda = 1/sigma^2)\n",
    "with model:\n",
    "    treatment_lambda = treatment_std**-2  # deterministic\n",
    "    control_lambda = control_std**-2 # deterministic\n",
    "\n",
    "    treatment_rating = pm.StudentT(f'{on}', nu=v, mu=treatment_mean, lam=treatment_lambda, observed=treatment)\n",
    "    control_rating = pm.StudentT(f'not {on}', nu=v, mu=control_mean, lam=control_lambda, observed=control)"
   ]
  },
  {
   "cell_type": "code",
   "execution_count": null,
   "metadata": {},
   "outputs": [],
   "source": [
    "with model:\n",
    "    # our deterministic values, we could just have easily done this with the traces.\n",
    "    diff_of_means = pm.Deterministic('difference_of_means', treatment_mean - control_mean)\n",
    "    diff_of_stds = pm.Deterministic('difference_of_stds', treatment_std - control_std)\n",
    "    effect_size = pm.Deterministic('effect_size',\n",
    "                                   diff_of_means / np.sqrt((treatment_std**2 + control_std**2) / 2)) # hard to interpret but is difference scaled by pooled variance"
   ]
  },
  {
   "cell_type": "code",
   "execution_count": null,
   "metadata": {},
   "outputs": [],
   "source": [
    "with model:\n",
    "    trace = pm.sample(2000) # NUTS sampling for filling our posterior\n",
    "\n",
    "    # dump the trace\n",
    "    today = dt.now().strftime('%y%m%d')\n",
    "    with open(f'../results/trace_{on}_{today}.pckle', 'wb') as f:\n",
    "        pickle.dump(trace, f)"
   ]
  },
  {
   "cell_type": "code",
   "execution_count": null,
   "metadata": {},
   "outputs": [],
   "source": [
    "pm.plot_posterior(trace)"
   ]
  },
  {
   "cell_type": "code",
   "execution_count": null,
   "metadata": {},
   "outputs": [],
   "source": [
    "pm.plot_posterior(trace, var_names=['difference_of_means','difference_of_stds', 'effect_size'],\n",
    "                  ref_val=0,\n",
    "                  color='#87ceeb')"
   ]
  },
  {
   "cell_type": "code",
   "execution_count": null,
   "metadata": {},
   "outputs": [],
   "source": [
    "# the diagnostics show that the sampling went as suspected with no issues (Rhat ~ 1)\n",
    "from util.stats import summary\n",
    "summary_ = summary(trace)\n",
    "summary_ # error out"
   ]
  },
  {
   "cell_type": "markdown",
   "metadata": {},
   "source": [
    "## TODO: Relative difference in means/lift."
   ],
   "execution_count": null,
   "outputs": []
  }
 ]
}