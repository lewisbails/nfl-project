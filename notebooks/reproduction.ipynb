{
 "nbformat": 4,
 "nbformat_minor": 2,
 "metadata": {
  "language_info": {
   "name": "python",
   "codemirror_mode": {
    "name": "ipython",
    "version": 3
   }
  },
  "orig_nbformat": 2,
  "file_extension": ".py",
  "mimetype": "text/x-python",
  "name": "python",
  "npconvert_exporter": "python",
  "pygments_lexer": "ipython3",
  "version": 3
 },
 "cells": [
  {
   "cell_type": "code",
   "execution_count": null,
   "metadata": {},
   "outputs": [],
   "source": [
    "import pandas as pd\n",
    "import statsmodels.api as sm\n",
    "from statsmodels.formula.api import glm as glm_sm\n",
    "import numpy as np\n",
    "import mysql.connector\n",
    "import itertools\n",
    "import dtale\n",
    "from scipy.stats import chi2, pointbiserialr, pearsonr\n",
    "from pandas.plotting import scatter_matrix\n",
    "import matplotlib.pyplot as plt\n",
    "import seaborn as sns\n",
    "from datetime import datetime as dt\n",
    "\n",
    "\n",
    "import sys\n",
    "sys.path.append('..')\n",
    "from util.metrics import tetrachoric\n",
    "from util.graphics.factorplots import interaction_plot\n",
    "from scripts.train import get_data\n",
    "from util.summary import Summary"
   ]
  },
  {
   "cell_type": "code",
   "execution_count": null,
   "metadata": {},
   "outputs": [],
   "source": [
    "cnx = mysql.connector.connect(user='root', password='mOntie20!mysql', host='127.0.0.1', database='nfl')"
   ]
  },
  {
   "cell_type": "code",
   "execution_count": null,
   "metadata": {},
   "outputs": [],
   "source": [
    "df = get_data(cnx, '<= 2019').drop('fkicker', axis=1)\n",
    "\n",
    "# dtale.show(df)\n",
    "print(len(df), 'rows.')\n",
    "df.head(10)"
   ]
  },
  {
   "cell_type": "markdown",
   "metadata": {},
   "source": [
    "## Going For Three"
   ]
  },
  {
   "cell_type": "markdown",
   "metadata": {},
   "source": [
    "Query the database for the data used by Going For Three. i.e. pre-2011.\n",
    "Going For Three didn't use the year and seasons variables in their tabulated results, so our first model won't either."
   ]
  },
  {
   "cell_type": "code",
   "execution_count": null,
   "metadata": {},
   "outputs": [],
   "source": [
    "df_gft = get_data(cnx, '<= 2011').drop(['seasons','year','fkicker'], axis=1)\n",
    "print(len(df_gft))\n",
    "df_gft.head(10)"
   ]
  },
  {
   "cell_type": "code",
   "execution_count": null,
   "metadata": {},
   "outputs": [],
   "source": [
    "model = glm_sm('good ~ ' + '+'.join(df_gft.drop('good', axis=1).columns.values), df_gft, family=sm.families.Binomial())\n",
    "result = model.fit(method='newton')\n",
    "print(result.summary())\n",
    "base_ll = pd.read_html(result.summary().tables[0].as_html())[0].iloc[4,3]"
   ]
  },
  {
   "cell_type": "markdown",
   "metadata": {},
   "source": [
    "We now add back in the year and seasons of experience and control for kickers that dont make it in the NFL (so >=50 kicks overall or >=3 seasons at the time of kick). Notice this is a little different from the Going For Three paper. Their criteria threw out a few valid datapoints from experienced kickers at the start and end of the dataset."
   ]
  },
  {
   "cell_type": "code",
   "execution_count": null,
   "metadata": {},
   "outputs": [],
   "source": [
    "where = '''\\nand (\n",
    "(\n",
    "    fg.fkicker in (select fkicker from fifty) -- has had at least 50 attempts overall (this keeps only kickers that would end up making it in the NFL)\n",
    ") or    \n",
    "(\n",
    "    k.seas>=3  -- or they had played 3 seasons up to the kick (stops removal of kicks from experienced kickers' kicks from early or late in the dataset)\n",
    ")\n",
    ")'''\n",
    "\n",
    "df_gft_ext = get_data(cnx, '<= 2011', where).drop('fkicker', axis=1)\n",
    "print(len(df_gft_ext), 'valid kicks.')\n",
    "df_gft_ext.head(5)"
   ]
  },
  {
   "cell_type": "code",
   "execution_count": null,
   "metadata": {},
   "outputs": [],
   "source": [
    "model = glm_sm('good ~ '+'+'.join(df_gft_ext.drop('good', axis=1).columns.values), df_gft_ext, family=sm.families.Binomial())\n",
    "result = model.fit(method='newton')\n",
    "print(result.summary())"
   ]
  },
  {
   "cell_type": "markdown",
   "metadata": {},
   "source": [
    "Again, we see that we've arrived at similar results. The psychological variables seem less influential than the environmental and physical factors."
   ]
  },
  {
   "cell_type": "markdown",
   "metadata": {},
   "source": [
    "## Choking Under The Pressure"
   ]
  },
  {
   "cell_type": "markdown",
   "metadata": {},
   "source": [
    "In Choking Under the Pressure, they used similar data now from 2000-2017.\n",
    "Lets repeat the modelling with this data, again leaving out the seasons and year covariates and not controlling for >50 kicks"
   ]
  },
  {
   "cell_type": "code",
   "execution_count": null,
   "metadata": {},
   "outputs": [],
   "source": [
    "df_cup = get_data(cnx, '<= 2017').drop(['seasons','year','fkicker'], axis=1)\n",
    "print(len(df_cup),'valid kicks.')\n",
    "df_cup.head(5)"
   ]
  },
  {
   "cell_type": "code",
   "execution_count": null,
   "metadata": {},
   "outputs": [],
   "source": [
    "model = glm_sm('good ~ '+'+'.join(df_cup.drop(['good'], axis=1).columns.values), df_cup, family=sm.families.Binomial())\n",
    "result = model.fit(method='newton')\n",
    "print(result.summary())"
   ]
  },
  {
   "cell_type": "markdown",
   "metadata": {},
   "source": [
    "Again we see similar results. Icing is significant at the 0.1 level as per the paper."
   ]
  }
 ]
}