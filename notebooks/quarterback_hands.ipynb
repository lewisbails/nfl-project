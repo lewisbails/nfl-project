{
 "nbformat": 4,
 "nbformat_minor": 2,
 "metadata": {
  "language_info": {
   "name": "python",
   "codemirror_mode": {
    "name": "ipython",
    "version": 3
   },
   "version": "3.7.6-final"
  },
  "orig_nbformat": 2,
  "file_extension": ".py",
  "mimetype": "text/x-python",
  "name": "python",
  "npconvert_exporter": "python",
  "pygments_lexer": "ipython3",
  "version": 3,
  "kernelspec": {
   "name": "python37664bitcondapymc3conda6670677869c246b299085920d157fd45",
   "display_name": "Python 3.7.6 64-bit ('conda_pymc3': conda)"
  }
 },
 "cells": [
  {
   "cell_type": "markdown",
   "metadata": {},
   "source": [
    "# Passer Ratings: Hand Sizes\n",
    "\n",
    "Hypothesis: Hand size affects average seasonal passer rating.\n",
    "\n",
    "QB's are apparently meant to have hands above 9.25 inches."
   ]
  },
  {
   "cell_type": "code",
   "execution_count": 1,
   "metadata": {},
   "outputs": [],
   "source": [
    "import pandas as pd\n",
    "import numpy as np\n",
    "import mysql.connector\n",
    "import sys\n",
    "sys.path.append('..')"
   ]
  },
  {
   "cell_type": "code",
   "execution_count": 2,
   "metadata": {},
   "outputs": [],
   "source": [
    "cnx = mysql.connector.connect(user='root', password='mOntie20!mysql', host='127.0.0.1', database='nfl')\n",
    "sql = open('../sql/qb_season_ratings.sql', 'r').read()\n",
    "df = pd.read_sql(sql, cnx)\n",
    "df = df.loc[:,~df.columns.duplicated()][df['attempts']>50]"
   ]
  },
  {
   "cell_type": "markdown",
   "metadata": {},
   "source": [
    "Theres a lot of missing hand measurements so we'll have to do some Googling."
   ]
  },
  {
   "cell_type": "code",
   "execution_count": 3,
   "metadata": {},
   "outputs": [],
   "source": [
    "df['hand'].replace([0,''], np.nan, inplace=True)\n",
    "df['height'].replace([0,''], np.nan, inplace=True)\n",
    "df['weight'].replace([0,''], np.nan, inplace=True)"
   ]
  },
  {
   "cell_type": "code",
   "execution_count": 4,
   "metadata": {},
   "outputs": [],
   "source": [
    "df['hand'] = df.groupby('player')['hand'].apply(lambda x: x.fillna(method='ffill'))"
   ]
  },
  {
   "cell_type": "code",
   "execution_count": 5,
   "metadata": {},
   "outputs": [
    {
     "name": "stdout",
     "output_type": "stream",
     "text": "<class 'pandas.core.frame.DataFrame'>\nInt64Index: 1014 entries, 0 to 1013\nData columns (total 31 columns):\n #   Column         Non-Null Count  Dtype  \n---  ------         --------------  -----  \n 0   player         1014 non-null   object \n 1   name           1014 non-null   object \n 2   first_name     1014 non-null   object \n 3   last_name      1014 non-null   object \n 4   year           1014 non-null   int64  \n 5   attempts       1014 non-null   float64\n 6   completions    1014 non-null   float64\n 7   yards          1014 non-null   float64\n 8   interceptions  1014 non-null   float64\n 9   TD             1014 non-null   float64\n 10  avg_rating     1014 non-null   float64\n 11  height         1014 non-null   int64  \n 12  weight         1014 non-null   int64  \n 13  hand           515 non-null    float64\n 14  arm            1014 non-null   float64\n 15  draft          1014 non-null   int64  \n 16  start          1014 non-null   int64  \n 17  forty          1014 non-null   float64\n 18  bench          1014 non-null   int64  \n 19  broad          1014 non-null   int64  \n 20  shuttle        1014 non-null   float64\n 21  cone           1014 non-null   float64\n 22  dob            1014 non-null   object \n 23  college_div    1014 non-null   object \n 24  sack_rate      1014 non-null   float64\n 25  alt_rate       1014 non-null   float64\n 26  precip_rate    1014 non-null   float64\n 27  turf_rate      1014 non-null   float64\n 28  wind_rate      1014 non-null   float64\n 29  away_rate      1014 non-null   float64\n 30  temp           1014 non-null   float64\ndtypes: float64(18), int64(7), object(6)\nmemory usage: 253.5+ KB\n"
    }
   ],
   "source": [
    "df.info()"
   ]
  },
  {
   "cell_type": "code",
   "execution_count": 6,
   "metadata": {},
   "outputs": [],
   "source": [
    "missing_hands = df[df['hand'].isna()].groupby(['player','first_name','last_name']).size().sort_values(ascending=False)"
   ]
  },
  {
   "cell_type": "code",
   "execution_count": 7,
   "metadata": {},
   "outputs": [
    {
     "data": {
      "text/html": "<div>\n<style scoped>\n    .dataframe tbody tr th:only-of-type {\n        vertical-align: middle;\n    }\n\n    .dataframe tbody tr th {\n        vertical-align: top;\n    }\n\n    .dataframe thead th {\n        text-align: right;\n    }\n</style>\n<table border=\"1\" class=\"dataframe\">\n  <thead>\n    <tr style=\"text-align: right;\">\n      <th></th>\n      <th>first_name</th>\n      <th>last_name</th>\n      <th>0</th>\n      <th>size</th>\n    </tr>\n    <tr>\n      <th>player</th>\n      <th></th>\n      <th></th>\n      <th></th>\n      <th></th>\n    </tr>\n  </thead>\n  <tbody>\n    <tr>\n      <th>TB-2300</th>\n      <td>Tom</td>\n      <td>Brady</td>\n      <td>18</td>\n      <td>NaN</td>\n    </tr>\n    <tr>\n      <th>PM-0200</th>\n      <td>Peyton</td>\n      <td>Manning</td>\n      <td>15</td>\n      <td>NaN</td>\n    </tr>\n    <tr>\n      <th>RF-0500</th>\n      <td>Ryan</td>\n      <td>Fitzpatrick</td>\n      <td>13</td>\n      <td>NaN</td>\n    </tr>\n    <tr>\n      <th>MH-1600</th>\n      <td>Matt</td>\n      <td>Hasselbeck</td>\n      <td>13</td>\n      <td>NaN</td>\n    </tr>\n    <tr>\n      <th>DM-2200</th>\n      <td>Donovan</td>\n      <td>McNabb</td>\n      <td>12</td>\n      <td>NaN</td>\n    </tr>\n  </tbody>\n</table>\n</div>",
      "text/plain": "        first_name    last_name   0  size\nplayer                                   \nTB-2300        Tom        Brady  18   NaN\nPM-0200     Peyton      Manning  15   NaN\nRF-0500       Ryan  Fitzpatrick  13   NaN\nMH-1600       Matt   Hasselbeck  13   NaN\nDM-2200    Donovan       McNabb  12   NaN"
     },
     "execution_count": 7,
     "metadata": {},
     "output_type": "execute_result"
    }
   ],
   "source": [
    "missing = missing_hands.to_frame().reset_index().set_index('player')\n",
    "missing['size'] = np.nan\n",
    "missing.head()"
   ]
  },
  {
   "cell_type": "markdown",
   "metadata": {},
   "source": [
    "We'll use Selenium to scrape hand sizes from the web."
   ]
  },
  {
   "cell_type": "code",
   "execution_count": 8,
   "metadata": {},
   "outputs": [
    {
     "name": "stdout",
     "output_type": "stream",
     "text": "Tom Brady 9.38\n"
    }
   ],
   "source": [
    "from scripts.qb_bot import QBBot\n",
    "\n",
    "bot = QBBot()\n",
    "\n",
    "for i, x in missing.iterrows():\n",
    "    missing.loc[i,'size'] = bot.search(x['first_name'],x['last_name'])\n",
    "    break"
   ]
  },
  {
   "cell_type": "code",
   "execution_count": 9,
   "metadata": {},
   "outputs": [
    {
     "data": {
      "text/html": "<div>\n<style scoped>\n    .dataframe tbody tr th:only-of-type {\n        vertical-align: middle;\n    }\n\n    .dataframe tbody tr th {\n        vertical-align: top;\n    }\n\n    .dataframe thead th {\n        text-align: right;\n    }\n</style>\n<table border=\"1\" class=\"dataframe\">\n  <thead>\n    <tr style=\"text-align: right;\">\n      <th></th>\n      <th>first_name</th>\n      <th>last_name</th>\n      <th>0</th>\n      <th>size</th>\n    </tr>\n    <tr>\n      <th>player</th>\n      <th></th>\n      <th></th>\n      <th></th>\n      <th></th>\n    </tr>\n  </thead>\n  <tbody>\n    <tr>\n      <th>TB-2300</th>\n      <td>Tom</td>\n      <td>Brady</td>\n      <td>18</td>\n      <td>9.38</td>\n    </tr>\n    <tr>\n      <th>PM-0200</th>\n      <td>Peyton</td>\n      <td>Manning</td>\n      <td>15</td>\n      <td>NaN</td>\n    </tr>\n    <tr>\n      <th>RF-0500</th>\n      <td>Ryan</td>\n      <td>Fitzpatrick</td>\n      <td>13</td>\n      <td>NaN</td>\n    </tr>\n    <tr>\n      <th>MH-1600</th>\n      <td>Matt</td>\n      <td>Hasselbeck</td>\n      <td>13</td>\n      <td>NaN</td>\n    </tr>\n    <tr>\n      <th>DM-2200</th>\n      <td>Donovan</td>\n      <td>McNabb</td>\n      <td>12</td>\n      <td>NaN</td>\n    </tr>\n    <tr>\n      <th>...</th>\n      <td>...</td>\n      <td>...</td>\n      <td>...</td>\n      <td>...</td>\n    </tr>\n    <tr>\n      <th>DW-5000</th>\n      <td>Danny</td>\n      <td>Wuerffel</td>\n      <td>1</td>\n      <td>NaN</td>\n    </tr>\n    <tr>\n      <th>DP-0800</th>\n      <td>Doug</td>\n      <td>Pederson</td>\n      <td>1</td>\n      <td>NaN</td>\n    </tr>\n    <tr>\n      <th>TC-2300</th>\n      <td>Todd</td>\n      <td>Collins</td>\n      <td>1</td>\n      <td>NaN</td>\n    </tr>\n    <tr>\n      <th>TD-1100</th>\n      <td>Ty</td>\n      <td>Detmer</td>\n      <td>1</td>\n      <td>NaN</td>\n    </tr>\n    <tr>\n      <th>JS-5100</th>\n      <td>Jim</td>\n      <td>Sorgi</td>\n      <td>1</td>\n      <td>NaN</td>\n    </tr>\n  </tbody>\n</table>\n<p>125 rows × 4 columns</p>\n</div>",
      "text/plain": "        first_name    last_name   0  size\nplayer                                   \nTB-2300        Tom        Brady  18  9.38\nPM-0200     Peyton      Manning  15   NaN\nRF-0500       Ryan  Fitzpatrick  13   NaN\nMH-1600       Matt   Hasselbeck  13   NaN\nDM-2200    Donovan       McNabb  12   NaN\n...            ...          ...  ..   ...\nDW-5000      Danny     Wuerffel   1   NaN\nDP-0800       Doug     Pederson   1   NaN\nTC-2300       Todd      Collins   1   NaN\nTD-1100         Ty       Detmer   1   NaN\nJS-5100        Jim        Sorgi   1   NaN\n\n[125 rows x 4 columns]"
     },
     "execution_count": 9,
     "metadata": {},
     "output_type": "execute_result"
    }
   ],
   "source": [
    "missing"
   ]
  },
  {
   "cell_type": "code",
   "execution_count": 10,
   "metadata": {},
   "outputs": [],
   "source": [
    "missing.to_csv('missing_hands_scraped.csv')"
   ]
  },
  {
   "cell_type": "code",
   "execution_count": null,
   "metadata": {},
   "outputs": [],
   "source": []
  }
 ]
}